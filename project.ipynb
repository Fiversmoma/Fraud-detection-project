{
 "cells": [
  {
   "cell_type": "markdown",
   "id": "30ec8258",
   "metadata": {},
   "source": [
    "#  Credit Card Fraud Detection\n",
    "\n",
    "This is a machine learning project that aims to detect fraudulent credit card transactions using a dataset of anonymized credit card transactions. The project uses supervised learning techniques, specifically Logistic Regression, Decision Tree, and Random Forest classifiers, to train classification models that can predict whether a given credit card transaction is fraudulent or not."
   ]
  },
  {
   "cell_type": "code",
   "execution_count": null,
   "id": "c9967aca",
   "metadata": {},
   "outputs": [],
   "source": []
  },
  {
   "cell_type": "code",
   "execution_count": 1,
   "id": "9228aaae",
   "metadata": {},
   "outputs": [],
   "source": [
    "# Importing the libraries\n",
    "\n",
    "import numpy as np\n",
    "import pandas as pd\n",
    "\n",
    "import matplotlib.pyplot as plt\n",
    "%matplotlib inline\n",
    "import seaborn as sns\n",
    "\n",
    "from sklearn import preprocessing\n",
    "from sklearn.preprocessing import StandardScaler\n",
    "\n",
    "import sklearn\n",
    "from sklearn import metrics\n",
    "from sklearn.metrics import roc_curve, accuracy_score, roc_auc_score \n",
    "from sklearn.metrics import precision_score, recall_score,f1_score\n",
    "from sklearn.metrics import classification_report,confusion_matrix\n",
    "\n",
    "from sklearn.model_selection import train_test_split\n",
    "from sklearn.model_selection import StratifiedKFold\n",
    "\n",
    "from sklearn.linear_model import LogisticRegression\n",
    "from sklearn.tree import DecisionTreeClassifier\n",
    "from sklearn.ensemble import RandomForestClassifier\n",
    "from imblearn.over_sampling import SMOTE\n",
    "\n",
    "# To ignore warnings\n",
    "import warnings\n",
    "warnings.filterwarnings(\"ignore\")"
   ]
  },
  {
   "cell_type": "code",
   "execution_count": 2,
   "id": "4c7f0718",
   "metadata": {},
   "outputs": [
    {
     "data": {
      "text/html": [
       "<div>\n",
       "<style scoped>\n",
       "    .dataframe tbody tr th:only-of-type {\n",
       "        vertical-align: middle;\n",
       "    }\n",
       "\n",
       "    .dataframe tbody tr th {\n",
       "        vertical-align: top;\n",
       "    }\n",
       "\n",
       "    .dataframe thead th {\n",
       "        text-align: right;\n",
       "    }\n",
       "</style>\n",
       "<table border=\"1\" class=\"dataframe\">\n",
       "  <thead>\n",
       "    <tr style=\"text-align: right;\">\n",
       "      <th></th>\n",
       "      <th>Time</th>\n",
       "      <th>V1</th>\n",
       "      <th>V2</th>\n",
       "      <th>V3</th>\n",
       "      <th>V4</th>\n",
       "      <th>V5</th>\n",
       "      <th>V6</th>\n",
       "      <th>V7</th>\n",
       "      <th>V8</th>\n",
       "      <th>V9</th>\n",
       "      <th>...</th>\n",
       "      <th>V21</th>\n",
       "      <th>V22</th>\n",
       "      <th>V23</th>\n",
       "      <th>V24</th>\n",
       "      <th>V25</th>\n",
       "      <th>V26</th>\n",
       "      <th>V27</th>\n",
       "      <th>V28</th>\n",
       "      <th>Amount</th>\n",
       "      <th>Class</th>\n",
       "    </tr>\n",
       "  </thead>\n",
       "  <tbody>\n",
       "    <tr>\n",
       "      <th>0</th>\n",
       "      <td>0.0</td>\n",
       "      <td>-1.359807</td>\n",
       "      <td>-0.072781</td>\n",
       "      <td>2.536347</td>\n",
       "      <td>1.378155</td>\n",
       "      <td>-0.338321</td>\n",
       "      <td>0.462388</td>\n",
       "      <td>0.239599</td>\n",
       "      <td>0.098698</td>\n",
       "      <td>0.363787</td>\n",
       "      <td>...</td>\n",
       "      <td>-0.018307</td>\n",
       "      <td>0.277838</td>\n",
       "      <td>-0.110474</td>\n",
       "      <td>0.066928</td>\n",
       "      <td>0.128539</td>\n",
       "      <td>-0.189115</td>\n",
       "      <td>0.133558</td>\n",
       "      <td>-0.021053</td>\n",
       "      <td>149.62</td>\n",
       "      <td>0</td>\n",
       "    </tr>\n",
       "    <tr>\n",
       "      <th>1</th>\n",
       "      <td>0.0</td>\n",
       "      <td>1.191857</td>\n",
       "      <td>0.266151</td>\n",
       "      <td>0.166480</td>\n",
       "      <td>0.448154</td>\n",
       "      <td>0.060018</td>\n",
       "      <td>-0.082361</td>\n",
       "      <td>-0.078803</td>\n",
       "      <td>0.085102</td>\n",
       "      <td>-0.255425</td>\n",
       "      <td>...</td>\n",
       "      <td>-0.225775</td>\n",
       "      <td>-0.638672</td>\n",
       "      <td>0.101288</td>\n",
       "      <td>-0.339846</td>\n",
       "      <td>0.167170</td>\n",
       "      <td>0.125895</td>\n",
       "      <td>-0.008983</td>\n",
       "      <td>0.014724</td>\n",
       "      <td>2.69</td>\n",
       "      <td>0</td>\n",
       "    </tr>\n",
       "    <tr>\n",
       "      <th>2</th>\n",
       "      <td>1.0</td>\n",
       "      <td>-1.358354</td>\n",
       "      <td>-1.340163</td>\n",
       "      <td>1.773209</td>\n",
       "      <td>0.379780</td>\n",
       "      <td>-0.503198</td>\n",
       "      <td>1.800499</td>\n",
       "      <td>0.791461</td>\n",
       "      <td>0.247676</td>\n",
       "      <td>-1.514654</td>\n",
       "      <td>...</td>\n",
       "      <td>0.247998</td>\n",
       "      <td>0.771679</td>\n",
       "      <td>0.909412</td>\n",
       "      <td>-0.689281</td>\n",
       "      <td>-0.327642</td>\n",
       "      <td>-0.139097</td>\n",
       "      <td>-0.055353</td>\n",
       "      <td>-0.059752</td>\n",
       "      <td>378.66</td>\n",
       "      <td>0</td>\n",
       "    </tr>\n",
       "    <tr>\n",
       "      <th>3</th>\n",
       "      <td>1.0</td>\n",
       "      <td>-0.966272</td>\n",
       "      <td>-0.185226</td>\n",
       "      <td>1.792993</td>\n",
       "      <td>-0.863291</td>\n",
       "      <td>-0.010309</td>\n",
       "      <td>1.247203</td>\n",
       "      <td>0.237609</td>\n",
       "      <td>0.377436</td>\n",
       "      <td>-1.387024</td>\n",
       "      <td>...</td>\n",
       "      <td>-0.108300</td>\n",
       "      <td>0.005274</td>\n",
       "      <td>-0.190321</td>\n",
       "      <td>-1.175575</td>\n",
       "      <td>0.647376</td>\n",
       "      <td>-0.221929</td>\n",
       "      <td>0.062723</td>\n",
       "      <td>0.061458</td>\n",
       "      <td>123.50</td>\n",
       "      <td>0</td>\n",
       "    </tr>\n",
       "    <tr>\n",
       "      <th>4</th>\n",
       "      <td>2.0</td>\n",
       "      <td>-1.158233</td>\n",
       "      <td>0.877737</td>\n",
       "      <td>1.548718</td>\n",
       "      <td>0.403034</td>\n",
       "      <td>-0.407193</td>\n",
       "      <td>0.095921</td>\n",
       "      <td>0.592941</td>\n",
       "      <td>-0.270533</td>\n",
       "      <td>0.817739</td>\n",
       "      <td>...</td>\n",
       "      <td>-0.009431</td>\n",
       "      <td>0.798278</td>\n",
       "      <td>-0.137458</td>\n",
       "      <td>0.141267</td>\n",
       "      <td>-0.206010</td>\n",
       "      <td>0.502292</td>\n",
       "      <td>0.219422</td>\n",
       "      <td>0.215153</td>\n",
       "      <td>69.99</td>\n",
       "      <td>0</td>\n",
       "    </tr>\n",
       "  </tbody>\n",
       "</table>\n",
       "<p>5 rows × 31 columns</p>\n",
       "</div>"
      ],
      "text/plain": [
       "   Time        V1        V2        V3        V4        V5        V6        V7  \\\n",
       "0   0.0 -1.359807 -0.072781  2.536347  1.378155 -0.338321  0.462388  0.239599   \n",
       "1   0.0  1.191857  0.266151  0.166480  0.448154  0.060018 -0.082361 -0.078803   \n",
       "2   1.0 -1.358354 -1.340163  1.773209  0.379780 -0.503198  1.800499  0.791461   \n",
       "3   1.0 -0.966272 -0.185226  1.792993 -0.863291 -0.010309  1.247203  0.237609   \n",
       "4   2.0 -1.158233  0.877737  1.548718  0.403034 -0.407193  0.095921  0.592941   \n",
       "\n",
       "         V8        V9  ...       V21       V22       V23       V24       V25  \\\n",
       "0  0.098698  0.363787  ... -0.018307  0.277838 -0.110474  0.066928  0.128539   \n",
       "1  0.085102 -0.255425  ... -0.225775 -0.638672  0.101288 -0.339846  0.167170   \n",
       "2  0.247676 -1.514654  ...  0.247998  0.771679  0.909412 -0.689281 -0.327642   \n",
       "3  0.377436 -1.387024  ... -0.108300  0.005274 -0.190321 -1.175575  0.647376   \n",
       "4 -0.270533  0.817739  ... -0.009431  0.798278 -0.137458  0.141267 -0.206010   \n",
       "\n",
       "        V26       V27       V28  Amount  Class  \n",
       "0 -0.189115  0.133558 -0.021053  149.62      0  \n",
       "1  0.125895 -0.008983  0.014724    2.69      0  \n",
       "2 -0.139097 -0.055353 -0.059752  378.66      0  \n",
       "3 -0.221929  0.062723  0.061458  123.50      0  \n",
       "4  0.502292  0.219422  0.215153   69.99      0  \n",
       "\n",
       "[5 rows x 31 columns]"
      ]
     },
     "execution_count": 2,
     "metadata": {},
     "output_type": "execute_result"
    }
   ],
   "source": [
    "# Loading the data\n",
    "df = pd.read_csv('creditcard_data.csv')\n",
    "df.head()"
   ]
  },
  {
   "cell_type": "code",
   "execution_count": 3,
   "id": "cbc51c6b",
   "metadata": {},
   "outputs": [
    {
     "name": "stdout",
     "output_type": "stream",
     "text": [
      "Number of Rows (284806, 31)\n",
      "Number of Columns (284806, 31)\n"
     ]
    }
   ],
   "source": [
    "# shape of dataset\n",
    "print('Number of Rows', df.shape)\n",
    "print('Number of Columns', df.shape)"
   ]
  },
  {
   "cell_type": "code",
   "execution_count": 4,
   "id": "00492986",
   "metadata": {},
   "outputs": [
    {
     "name": "stdout",
     "output_type": "stream",
     "text": [
      "<class 'pandas.core.frame.DataFrame'>\n",
      "RangeIndex: 284806 entries, 0 to 284805\n",
      "Data columns (total 31 columns):\n",
      " #   Column  Non-Null Count   Dtype  \n",
      "---  ------  --------------   -----  \n",
      " 0   Time    284806 non-null  float64\n",
      " 1   V1      284806 non-null  float64\n",
      " 2   V2      284806 non-null  float64\n",
      " 3   V3      284806 non-null  float64\n",
      " 4   V4      284806 non-null  float64\n",
      " 5   V5      284806 non-null  float64\n",
      " 6   V6      284806 non-null  float64\n",
      " 7   V7      284806 non-null  float64\n",
      " 8   V8      284806 non-null  float64\n",
      " 9   V9      284806 non-null  float64\n",
      " 10  V10     284806 non-null  float64\n",
      " 11  V11     284806 non-null  float64\n",
      " 12  V12     284806 non-null  float64\n",
      " 13  V13     284806 non-null  float64\n",
      " 14  V14     284806 non-null  float64\n",
      " 15  V15     284806 non-null  float64\n",
      " 16  V16     284806 non-null  float64\n",
      " 17  V17     284806 non-null  float64\n",
      " 18  V18     284806 non-null  float64\n",
      " 19  V19     284806 non-null  float64\n",
      " 20  V20     284806 non-null  float64\n",
      " 21  V21     284806 non-null  float64\n",
      " 22  V22     284806 non-null  float64\n",
      " 23  V23     284806 non-null  float64\n",
      " 24  V24     284806 non-null  float64\n",
      " 25  V25     284806 non-null  float64\n",
      " 26  V26     284806 non-null  float64\n",
      " 27  V27     284806 non-null  float64\n",
      " 28  V28     284806 non-null  float64\n",
      " 29  Amount  284806 non-null  float64\n",
      " 30  Class   284806 non-null  int64  \n",
      "dtypes: float64(30), int64(1)\n",
      "memory usage: 67.4 MB\n"
     ]
    }
   ],
   "source": [
    "# information of total rows, columns, datatypes and memory requirements\n",
    "df.info()"
   ]
  },
  {
   "cell_type": "code",
   "execution_count": 5,
   "id": "79745b04",
   "metadata": {},
   "outputs": [
    {
     "data": {
      "text/plain": [
       "Time      0\n",
       "V1        0\n",
       "V2        0\n",
       "V3        0\n",
       "V4        0\n",
       "V5        0\n",
       "V6        0\n",
       "V7        0\n",
       "V8        0\n",
       "V9        0\n",
       "V10       0\n",
       "V11       0\n",
       "V12       0\n",
       "V13       0\n",
       "V14       0\n",
       "V15       0\n",
       "V16       0\n",
       "V17       0\n",
       "V18       0\n",
       "V19       0\n",
       "V20       0\n",
       "V21       0\n",
       "V22       0\n",
       "V23       0\n",
       "V24       0\n",
       "V25       0\n",
       "V26       0\n",
       "V27       0\n",
       "V28       0\n",
       "Amount    0\n",
       "Class     0\n",
       "dtype: int64"
      ]
     },
     "execution_count": 5,
     "metadata": {},
     "output_type": "execute_result"
    }
   ],
   "source": [
    "# check null values \n",
    "df.isnull().sum()"
   ]
  },
  {
   "cell_type": "code",
   "execution_count": 6,
   "id": "679f960e",
   "metadata": {},
   "outputs": [
    {
     "data": {
      "text/html": [
       "<div>\n",
       "<style scoped>\n",
       "    .dataframe tbody tr th:only-of-type {\n",
       "        vertical-align: middle;\n",
       "    }\n",
       "\n",
       "    .dataframe tbody tr th {\n",
       "        vertical-align: top;\n",
       "    }\n",
       "\n",
       "    .dataframe thead th {\n",
       "        text-align: right;\n",
       "    }\n",
       "</style>\n",
       "<table border=\"1\" class=\"dataframe\">\n",
       "  <thead>\n",
       "    <tr style=\"text-align: right;\">\n",
       "      <th></th>\n",
       "      <th>Time</th>\n",
       "      <th>V1</th>\n",
       "      <th>V2</th>\n",
       "      <th>V3</th>\n",
       "      <th>V4</th>\n",
       "      <th>V5</th>\n",
       "      <th>V6</th>\n",
       "      <th>V7</th>\n",
       "      <th>V8</th>\n",
       "      <th>V9</th>\n",
       "      <th>...</th>\n",
       "      <th>V21</th>\n",
       "      <th>V22</th>\n",
       "      <th>V23</th>\n",
       "      <th>V24</th>\n",
       "      <th>V25</th>\n",
       "      <th>V26</th>\n",
       "      <th>V27</th>\n",
       "      <th>V28</th>\n",
       "      <th>Amount</th>\n",
       "      <th>Class</th>\n",
       "    </tr>\n",
       "  </thead>\n",
       "  <tbody>\n",
       "    <tr>\n",
       "      <th>count</th>\n",
       "      <td>284806.000000</td>\n",
       "      <td>284806.000000</td>\n",
       "      <td>2.848060e+05</td>\n",
       "      <td>284806.000000</td>\n",
       "      <td>284806.000000</td>\n",
       "      <td>2.848060e+05</td>\n",
       "      <td>284806.000000</td>\n",
       "      <td>284806.000000</td>\n",
       "      <td>284806.000000</td>\n",
       "      <td>284806.000000</td>\n",
       "      <td>...</td>\n",
       "      <td>2.848060e+05</td>\n",
       "      <td>284806.000000</td>\n",
       "      <td>284806.000000</td>\n",
       "      <td>2.848060e+05</td>\n",
       "      <td>284806.000000</td>\n",
       "      <td>284806.000000</td>\n",
       "      <td>2.848060e+05</td>\n",
       "      <td>2.848060e+05</td>\n",
       "      <td>284806.000000</td>\n",
       "      <td>284806.000000</td>\n",
       "    </tr>\n",
       "    <tr>\n",
       "      <th>mean</th>\n",
       "      <td>94813.585781</td>\n",
       "      <td>0.000002</td>\n",
       "      <td>6.661837e-07</td>\n",
       "      <td>-0.000002</td>\n",
       "      <td>0.000002</td>\n",
       "      <td>4.405008e-08</td>\n",
       "      <td>0.000002</td>\n",
       "      <td>-0.000006</td>\n",
       "      <td>0.000001</td>\n",
       "      <td>-0.000002</td>\n",
       "      <td>...</td>\n",
       "      <td>-9.166149e-07</td>\n",
       "      <td>-0.000002</td>\n",
       "      <td>-0.000001</td>\n",
       "      <td>-3.088756e-08</td>\n",
       "      <td>0.000002</td>\n",
       "      <td>0.000003</td>\n",
       "      <td>8.483873e-09</td>\n",
       "      <td>-4.792707e-08</td>\n",
       "      <td>88.349168</td>\n",
       "      <td>0.001727</td>\n",
       "    </tr>\n",
       "    <tr>\n",
       "      <th>std</th>\n",
       "      <td>47488.004530</td>\n",
       "      <td>1.958699</td>\n",
       "      <td>1.651311e+00</td>\n",
       "      <td>1.516257</td>\n",
       "      <td>1.415871</td>\n",
       "      <td>1.380249e+00</td>\n",
       "      <td>1.332273</td>\n",
       "      <td>1.237092</td>\n",
       "      <td>1.194355</td>\n",
       "      <td>1.098634</td>\n",
       "      <td>...</td>\n",
       "      <td>7.345251e-01</td>\n",
       "      <td>0.725702</td>\n",
       "      <td>0.624461</td>\n",
       "      <td>6.056481e-01</td>\n",
       "      <td>0.521278</td>\n",
       "      <td>0.482225</td>\n",
       "      <td>4.036332e-01</td>\n",
       "      <td>3.300838e-01</td>\n",
       "      <td>250.120432</td>\n",
       "      <td>0.041527</td>\n",
       "    </tr>\n",
       "    <tr>\n",
       "      <th>min</th>\n",
       "      <td>0.000000</td>\n",
       "      <td>-56.407510</td>\n",
       "      <td>-7.271573e+01</td>\n",
       "      <td>-48.325589</td>\n",
       "      <td>-5.683171</td>\n",
       "      <td>-1.137433e+02</td>\n",
       "      <td>-26.160506</td>\n",
       "      <td>-43.557242</td>\n",
       "      <td>-73.216718</td>\n",
       "      <td>-13.434066</td>\n",
       "      <td>...</td>\n",
       "      <td>-3.483038e+01</td>\n",
       "      <td>-10.933144</td>\n",
       "      <td>-44.807735</td>\n",
       "      <td>-2.836627e+00</td>\n",
       "      <td>-10.295397</td>\n",
       "      <td>-2.604551</td>\n",
       "      <td>-2.256568e+01</td>\n",
       "      <td>-1.543008e+01</td>\n",
       "      <td>0.000000</td>\n",
       "      <td>0.000000</td>\n",
       "    </tr>\n",
       "    <tr>\n",
       "      <th>25%</th>\n",
       "      <td>54201.250000</td>\n",
       "      <td>-0.920374</td>\n",
       "      <td>-5.985522e-01</td>\n",
       "      <td>-0.890368</td>\n",
       "      <td>-0.848642</td>\n",
       "      <td>-6.915995e-01</td>\n",
       "      <td>-0.768296</td>\n",
       "      <td>-0.554080</td>\n",
       "      <td>-0.208628</td>\n",
       "      <td>-0.643098</td>\n",
       "      <td>...</td>\n",
       "      <td>-2.283974e-01</td>\n",
       "      <td>-0.542351</td>\n",
       "      <td>-0.161846</td>\n",
       "      <td>-3.545895e-01</td>\n",
       "      <td>-0.317142</td>\n",
       "      <td>-0.326979</td>\n",
       "      <td>-7.083961e-02</td>\n",
       "      <td>-5.295995e-02</td>\n",
       "      <td>5.600000</td>\n",
       "      <td>0.000000</td>\n",
       "    </tr>\n",
       "    <tr>\n",
       "      <th>50%</th>\n",
       "      <td>84691.500000</td>\n",
       "      <td>0.018109</td>\n",
       "      <td>6.549621e-02</td>\n",
       "      <td>0.179846</td>\n",
       "      <td>-0.019845</td>\n",
       "      <td>-5.433621e-02</td>\n",
       "      <td>-0.274186</td>\n",
       "      <td>0.040097</td>\n",
       "      <td>0.022358</td>\n",
       "      <td>-0.051429</td>\n",
       "      <td>...</td>\n",
       "      <td>-2.945020e-02</td>\n",
       "      <td>0.006781</td>\n",
       "      <td>-0.011196</td>\n",
       "      <td>4.097671e-02</td>\n",
       "      <td>0.016596</td>\n",
       "      <td>-0.052134</td>\n",
       "      <td>1.342244e-03</td>\n",
       "      <td>1.124381e-02</td>\n",
       "      <td>22.000000</td>\n",
       "      <td>0.000000</td>\n",
       "    </tr>\n",
       "    <tr>\n",
       "      <th>75%</th>\n",
       "      <td>139320.000000</td>\n",
       "      <td>1.315645</td>\n",
       "      <td>8.037257e-01</td>\n",
       "      <td>1.027198</td>\n",
       "      <td>0.743348</td>\n",
       "      <td>6.119267e-01</td>\n",
       "      <td>0.398567</td>\n",
       "      <td>0.570426</td>\n",
       "      <td>0.327346</td>\n",
       "      <td>0.597140</td>\n",
       "      <td>...</td>\n",
       "      <td>1.863701e-01</td>\n",
       "      <td>0.528548</td>\n",
       "      <td>0.147641</td>\n",
       "      <td>4.395270e-01</td>\n",
       "      <td>0.350716</td>\n",
       "      <td>0.240955</td>\n",
       "      <td>9.104579e-02</td>\n",
       "      <td>7.828043e-02</td>\n",
       "      <td>77.160000</td>\n",
       "      <td>0.000000</td>\n",
       "    </tr>\n",
       "    <tr>\n",
       "      <th>max</th>\n",
       "      <td>172788.000000</td>\n",
       "      <td>2.454930</td>\n",
       "      <td>2.205773e+01</td>\n",
       "      <td>9.382558</td>\n",
       "      <td>16.875344</td>\n",
       "      <td>3.480167e+01</td>\n",
       "      <td>73.301626</td>\n",
       "      <td>120.589494</td>\n",
       "      <td>20.007208</td>\n",
       "      <td>15.594995</td>\n",
       "      <td>...</td>\n",
       "      <td>2.720284e+01</td>\n",
       "      <td>10.503090</td>\n",
       "      <td>22.528412</td>\n",
       "      <td>4.584549e+00</td>\n",
       "      <td>7.519589</td>\n",
       "      <td>3.517346</td>\n",
       "      <td>3.161220e+01</td>\n",
       "      <td>3.384781e+01</td>\n",
       "      <td>25691.160000</td>\n",
       "      <td>1.000000</td>\n",
       "    </tr>\n",
       "  </tbody>\n",
       "</table>\n",
       "<p>8 rows × 31 columns</p>\n",
       "</div>"
      ],
      "text/plain": [
       "                Time             V1            V2             V3  \\\n",
       "count  284806.000000  284806.000000  2.848060e+05  284806.000000   \n",
       "mean    94813.585781       0.000002  6.661837e-07      -0.000002   \n",
       "std     47488.004530       1.958699  1.651311e+00       1.516257   \n",
       "min         0.000000     -56.407510 -7.271573e+01     -48.325589   \n",
       "25%     54201.250000      -0.920374 -5.985522e-01      -0.890368   \n",
       "50%     84691.500000       0.018109  6.549621e-02       0.179846   \n",
       "75%    139320.000000       1.315645  8.037257e-01       1.027198   \n",
       "max    172788.000000       2.454930  2.205773e+01       9.382558   \n",
       "\n",
       "                  V4            V5             V6             V7  \\\n",
       "count  284806.000000  2.848060e+05  284806.000000  284806.000000   \n",
       "mean        0.000002  4.405008e-08       0.000002      -0.000006   \n",
       "std         1.415871  1.380249e+00       1.332273       1.237092   \n",
       "min        -5.683171 -1.137433e+02     -26.160506     -43.557242   \n",
       "25%        -0.848642 -6.915995e-01      -0.768296      -0.554080   \n",
       "50%        -0.019845 -5.433621e-02      -0.274186       0.040097   \n",
       "75%         0.743348  6.119267e-01       0.398567       0.570426   \n",
       "max        16.875344  3.480167e+01      73.301626     120.589494   \n",
       "\n",
       "                  V8             V9  ...           V21            V22  \\\n",
       "count  284806.000000  284806.000000  ...  2.848060e+05  284806.000000   \n",
       "mean        0.000001      -0.000002  ... -9.166149e-07      -0.000002   \n",
       "std         1.194355       1.098634  ...  7.345251e-01       0.725702   \n",
       "min       -73.216718     -13.434066  ... -3.483038e+01     -10.933144   \n",
       "25%        -0.208628      -0.643098  ... -2.283974e-01      -0.542351   \n",
       "50%         0.022358      -0.051429  ... -2.945020e-02       0.006781   \n",
       "75%         0.327346       0.597140  ...  1.863701e-01       0.528548   \n",
       "max        20.007208      15.594995  ...  2.720284e+01      10.503090   \n",
       "\n",
       "                 V23           V24            V25            V26  \\\n",
       "count  284806.000000  2.848060e+05  284806.000000  284806.000000   \n",
       "mean       -0.000001 -3.088756e-08       0.000002       0.000003   \n",
       "std         0.624461  6.056481e-01       0.521278       0.482225   \n",
       "min       -44.807735 -2.836627e+00     -10.295397      -2.604551   \n",
       "25%        -0.161846 -3.545895e-01      -0.317142      -0.326979   \n",
       "50%        -0.011196  4.097671e-02       0.016596      -0.052134   \n",
       "75%         0.147641  4.395270e-01       0.350716       0.240955   \n",
       "max        22.528412  4.584549e+00       7.519589       3.517346   \n",
       "\n",
       "                V27           V28         Amount          Class  \n",
       "count  2.848060e+05  2.848060e+05  284806.000000  284806.000000  \n",
       "mean   8.483873e-09 -4.792707e-08      88.349168       0.001727  \n",
       "std    4.036332e-01  3.300838e-01     250.120432       0.041527  \n",
       "min   -2.256568e+01 -1.543008e+01       0.000000       0.000000  \n",
       "25%   -7.083961e-02 -5.295995e-02       5.600000       0.000000  \n",
       "50%    1.342244e-03  1.124381e-02      22.000000       0.000000  \n",
       "75%    9.104579e-02  7.828043e-02      77.160000       0.000000  \n",
       "max    3.161220e+01  3.384781e+01   25691.160000       1.000000  \n",
       "\n",
       "[8 rows x 31 columns]"
      ]
     },
     "execution_count": 6,
     "metadata": {},
     "output_type": "execute_result"
    }
   ],
   "source": [
    "# Checking distribution of numerical values in the dataset\n",
    "df.describe()"
   ]
  },
  {
   "cell_type": "code",
   "execution_count": 7,
   "id": "739d5dc5",
   "metadata": {},
   "outputs": [
    {
     "data": {
      "text/html": [
       "<div>\n",
       "<style scoped>\n",
       "    .dataframe tbody tr th:only-of-type {\n",
       "        vertical-align: middle;\n",
       "    }\n",
       "\n",
       "    .dataframe tbody tr th {\n",
       "        vertical-align: top;\n",
       "    }\n",
       "\n",
       "    .dataframe thead th {\n",
       "        text-align: right;\n",
       "    }\n",
       "</style>\n",
       "<table border=\"1\" class=\"dataframe\">\n",
       "  <thead>\n",
       "    <tr style=\"text-align: right;\">\n",
       "      <th></th>\n",
       "      <th>Time</th>\n",
       "      <th>V1</th>\n",
       "      <th>V2</th>\n",
       "      <th>V3</th>\n",
       "      <th>V4</th>\n",
       "      <th>V5</th>\n",
       "      <th>V6</th>\n",
       "      <th>V7</th>\n",
       "      <th>V8</th>\n",
       "      <th>V9</th>\n",
       "      <th>...</th>\n",
       "      <th>V21</th>\n",
       "      <th>V22</th>\n",
       "      <th>V23</th>\n",
       "      <th>V24</th>\n",
       "      <th>V25</th>\n",
       "      <th>V26</th>\n",
       "      <th>V27</th>\n",
       "      <th>V28</th>\n",
       "      <th>Amount</th>\n",
       "      <th>Class</th>\n",
       "    </tr>\n",
       "  </thead>\n",
       "  <tbody>\n",
       "    <tr>\n",
       "      <th>Time</th>\n",
       "      <td>1.000000</td>\n",
       "      <td>1.173984e-01</td>\n",
       "      <td>-1.059272e-02</td>\n",
       "      <td>-4.196230e-01</td>\n",
       "      <td>-1.052587e-01</td>\n",
       "      <td>1.730730e-01</td>\n",
       "      <td>-6.301398e-02</td>\n",
       "      <td>8.470767e-02</td>\n",
       "      <td>-3.694762e-02</td>\n",
       "      <td>-8.663029e-03</td>\n",
       "      <td>...</td>\n",
       "      <td>4.473390e-02</td>\n",
       "      <td>1.440548e-01</td>\n",
       "      <td>5.113916e-02</td>\n",
       "      <td>-1.618203e-02</td>\n",
       "      <td>-2.330790e-01</td>\n",
       "      <td>-4.139772e-02</td>\n",
       "      <td>-5.134581e-03</td>\n",
       "      <td>-9.412971e-03</td>\n",
       "      <td>-0.010599</td>\n",
       "      <td>-0.012322</td>\n",
       "    </tr>\n",
       "    <tr>\n",
       "      <th>V1</th>\n",
       "      <td>0.117398</td>\n",
       "      <td>1.000000e+00</td>\n",
       "      <td>-1.098624e-07</td>\n",
       "      <td>4.435455e-07</td>\n",
       "      <td>-3.419080e-07</td>\n",
       "      <td>-8.694801e-09</td>\n",
       "      <td>-4.662443e-07</td>\n",
       "      <td>1.218935e-06</td>\n",
       "      <td>-3.319674e-07</td>\n",
       "      <td>4.231489e-07</td>\n",
       "      <td>...</td>\n",
       "      <td>3.398400e-07</td>\n",
       "      <td>8.473373e-07</td>\n",
       "      <td>5.769342e-07</td>\n",
       "      <td>1.388833e-08</td>\n",
       "      <td>-8.688316e-07</td>\n",
       "      <td>-1.622534e-06</td>\n",
       "      <td>-5.714209e-09</td>\n",
       "      <td>3.953780e-08</td>\n",
       "      <td>-0.227708</td>\n",
       "      <td>-0.101347</td>\n",
       "    </tr>\n",
       "    <tr>\n",
       "      <th>V2</th>\n",
       "      <td>-0.010593</td>\n",
       "      <td>-1.098624e-07</td>\n",
       "      <td>1.000000e+00</td>\n",
       "      <td>1.871392e-07</td>\n",
       "      <td>-1.442564e-07</td>\n",
       "      <td>-3.668784e-09</td>\n",
       "      <td>-1.967118e-07</td>\n",
       "      <td>5.142857e-07</td>\n",
       "      <td>-1.400610e-07</td>\n",
       "      <td>1.785308e-07</td>\n",
       "      <td>...</td>\n",
       "      <td>1.433853e-07</td>\n",
       "      <td>3.574983e-07</td>\n",
       "      <td>2.434103e-07</td>\n",
       "      <td>5.860695e-09</td>\n",
       "      <td>-3.665696e-07</td>\n",
       "      <td>-6.845636e-07</td>\n",
       "      <td>-2.415081e-09</td>\n",
       "      <td>1.668431e-08</td>\n",
       "      <td>-0.531409</td>\n",
       "      <td>0.091289</td>\n",
       "    </tr>\n",
       "    <tr>\n",
       "      <th>V3</th>\n",
       "      <td>-0.419623</td>\n",
       "      <td>4.435455e-07</td>\n",
       "      <td>1.871392e-07</td>\n",
       "      <td>1.000000e+00</td>\n",
       "      <td>5.823775e-07</td>\n",
       "      <td>1.480005e-08</td>\n",
       "      <td>7.941612e-07</td>\n",
       "      <td>-2.076230e-06</td>\n",
       "      <td>5.654478e-07</td>\n",
       "      <td>-7.207571e-07</td>\n",
       "      <td>...</td>\n",
       "      <td>-5.788599e-07</td>\n",
       "      <td>-1.443281e-06</td>\n",
       "      <td>-9.827024e-07</td>\n",
       "      <td>-2.365457e-08</td>\n",
       "      <td>1.479898e-06</td>\n",
       "      <td>2.763690e-06</td>\n",
       "      <td>9.741052e-09</td>\n",
       "      <td>-6.734186e-08</td>\n",
       "      <td>-0.210881</td>\n",
       "      <td>-0.192961</td>\n",
       "    </tr>\n",
       "    <tr>\n",
       "      <th>V4</th>\n",
       "      <td>-0.105259</td>\n",
       "      <td>-3.419080e-07</td>\n",
       "      <td>-1.442564e-07</td>\n",
       "      <td>5.823775e-07</td>\n",
       "      <td>1.000000e+00</td>\n",
       "      <td>-1.141195e-08</td>\n",
       "      <td>-6.121767e-07</td>\n",
       "      <td>1.600461e-06</td>\n",
       "      <td>-4.358746e-07</td>\n",
       "      <td>5.555930e-07</td>\n",
       "      <td>...</td>\n",
       "      <td>4.462109e-07</td>\n",
       "      <td>1.112550e-06</td>\n",
       "      <td>7.575133e-07</td>\n",
       "      <td>1.823434e-08</td>\n",
       "      <td>-1.140774e-06</td>\n",
       "      <td>-2.130388e-06</td>\n",
       "      <td>-7.514214e-09</td>\n",
       "      <td>5.191151e-08</td>\n",
       "      <td>0.098732</td>\n",
       "      <td>0.133447</td>\n",
       "    </tr>\n",
       "    <tr>\n",
       "      <th>V5</th>\n",
       "      <td>0.173073</td>\n",
       "      <td>-8.694801e-09</td>\n",
       "      <td>-3.668784e-09</td>\n",
       "      <td>1.480005e-08</td>\n",
       "      <td>-1.141195e-08</td>\n",
       "      <td>1.000000e+00</td>\n",
       "      <td>-1.556168e-08</td>\n",
       "      <td>4.069958e-08</td>\n",
       "      <td>-1.108203e-08</td>\n",
       "      <td>1.412224e-08</td>\n",
       "      <td>...</td>\n",
       "      <td>1.134104e-08</td>\n",
       "      <td>2.828181e-08</td>\n",
       "      <td>1.925978e-08</td>\n",
       "      <td>4.632979e-10</td>\n",
       "      <td>-2.899717e-08</td>\n",
       "      <td>-5.415482e-08</td>\n",
       "      <td>-1.930995e-10</td>\n",
       "      <td>1.329769e-09</td>\n",
       "      <td>-0.386356</td>\n",
       "      <td>-0.094974</td>\n",
       "    </tr>\n",
       "    <tr>\n",
       "      <th>V6</th>\n",
       "      <td>-0.063014</td>\n",
       "      <td>-4.662443e-07</td>\n",
       "      <td>-1.967118e-07</td>\n",
       "      <td>7.941612e-07</td>\n",
       "      <td>-6.121767e-07</td>\n",
       "      <td>-1.556168e-08</td>\n",
       "      <td>1.000000e+00</td>\n",
       "      <td>2.182472e-06</td>\n",
       "      <td>-5.943839e-07</td>\n",
       "      <td>7.576399e-07</td>\n",
       "      <td>...</td>\n",
       "      <td>6.084826e-07</td>\n",
       "      <td>1.517132e-06</td>\n",
       "      <td>1.032991e-06</td>\n",
       "      <td>2.487012e-08</td>\n",
       "      <td>-1.555627e-06</td>\n",
       "      <td>-2.905109e-06</td>\n",
       "      <td>-1.024332e-08</td>\n",
       "      <td>7.079262e-08</td>\n",
       "      <td>0.215982</td>\n",
       "      <td>-0.043643</td>\n",
       "    </tr>\n",
       "    <tr>\n",
       "      <th>V7</th>\n",
       "      <td>0.084708</td>\n",
       "      <td>1.218935e-06</td>\n",
       "      <td>5.142857e-07</td>\n",
       "      <td>-2.076230e-06</td>\n",
       "      <td>1.600461e-06</td>\n",
       "      <td>4.069958e-08</td>\n",
       "      <td>2.182472e-06</td>\n",
       "      <td>1.000000e+00</td>\n",
       "      <td>1.553945e-06</td>\n",
       "      <td>-1.980746e-06</td>\n",
       "      <td>...</td>\n",
       "      <td>-1.590793e-06</td>\n",
       "      <td>-3.966350e-06</td>\n",
       "      <td>-2.700630e-06</td>\n",
       "      <td>-6.501824e-08</td>\n",
       "      <td>4.066979e-06</td>\n",
       "      <td>7.595039e-06</td>\n",
       "      <td>2.677044e-08</td>\n",
       "      <td>-1.850795e-07</td>\n",
       "      <td>0.397310</td>\n",
       "      <td>-0.187257</td>\n",
       "    </tr>\n",
       "    <tr>\n",
       "      <th>V8</th>\n",
       "      <td>-0.036948</td>\n",
       "      <td>-3.319674e-07</td>\n",
       "      <td>-1.400610e-07</td>\n",
       "      <td>5.654478e-07</td>\n",
       "      <td>-4.358746e-07</td>\n",
       "      <td>-1.108203e-08</td>\n",
       "      <td>-5.943839e-07</td>\n",
       "      <td>1.553945e-06</td>\n",
       "      <td>1.000000e+00</td>\n",
       "      <td>5.394418e-07</td>\n",
       "      <td>...</td>\n",
       "      <td>4.332393e-07</td>\n",
       "      <td>1.080208e-06</td>\n",
       "      <td>7.354993e-07</td>\n",
       "      <td>1.770554e-08</td>\n",
       "      <td>-1.107620e-06</td>\n",
       "      <td>-2.068462e-06</td>\n",
       "      <td>-7.297882e-09</td>\n",
       "      <td>5.040720e-08</td>\n",
       "      <td>-0.103079</td>\n",
       "      <td>0.019875</td>\n",
       "    </tr>\n",
       "    <tr>\n",
       "      <th>V9</th>\n",
       "      <td>-0.008663</td>\n",
       "      <td>4.231489e-07</td>\n",
       "      <td>1.785308e-07</td>\n",
       "      <td>-7.207571e-07</td>\n",
       "      <td>5.555930e-07</td>\n",
       "      <td>1.412224e-08</td>\n",
       "      <td>7.576399e-07</td>\n",
       "      <td>-1.980746e-06</td>\n",
       "      <td>5.394418e-07</td>\n",
       "      <td>1.000000e+00</td>\n",
       "      <td>...</td>\n",
       "      <td>-5.522357e-07</td>\n",
       "      <td>-1.376904e-06</td>\n",
       "      <td>-9.375128e-07</td>\n",
       "      <td>-2.256909e-08</td>\n",
       "      <td>1.411835e-06</td>\n",
       "      <td>2.636590e-06</td>\n",
       "      <td>9.300299e-09</td>\n",
       "      <td>-6.425117e-08</td>\n",
       "      <td>-0.044246</td>\n",
       "      <td>-0.097733</td>\n",
       "    </tr>\n",
       "    <tr>\n",
       "      <th>V10</th>\n",
       "      <td>0.030622</td>\n",
       "      <td>-8.039077e-07</td>\n",
       "      <td>-3.391736e-07</td>\n",
       "      <td>1.369303e-06</td>\n",
       "      <td>-1.055528e-06</td>\n",
       "      <td>-2.683228e-08</td>\n",
       "      <td>-1.439372e-06</td>\n",
       "      <td>3.763057e-06</td>\n",
       "      <td>-1.024846e-06</td>\n",
       "      <td>1.306332e-06</td>\n",
       "      <td>...</td>\n",
       "      <td>1.049152e-06</td>\n",
       "      <td>2.615863e-06</td>\n",
       "      <td>1.781101e-06</td>\n",
       "      <td>4.287940e-08</td>\n",
       "      <td>-2.682227e-06</td>\n",
       "      <td>-5.009038e-06</td>\n",
       "      <td>-1.766269e-08</td>\n",
       "      <td>1.220679e-07</td>\n",
       "      <td>-0.101501</td>\n",
       "      <td>-0.216883</td>\n",
       "    </tr>\n",
       "    <tr>\n",
       "      <th>V11</th>\n",
       "      <td>-0.247685</td>\n",
       "      <td>-9.746971e-07</td>\n",
       "      <td>-4.112354e-07</td>\n",
       "      <td>1.660222e-06</td>\n",
       "      <td>-1.279776e-06</td>\n",
       "      <td>-3.253266e-08</td>\n",
       "      <td>-1.745174e-06</td>\n",
       "      <td>4.562535e-06</td>\n",
       "      <td>-1.242577e-06</td>\n",
       "      <td>1.583867e-06</td>\n",
       "      <td>...</td>\n",
       "      <td>1.272050e-06</td>\n",
       "      <td>3.171617e-06</td>\n",
       "      <td>2.159506e-06</td>\n",
       "      <td>5.198741e-08</td>\n",
       "      <td>-3.252085e-06</td>\n",
       "      <td>-6.073231e-06</td>\n",
       "      <td>-2.142106e-08</td>\n",
       "      <td>1.479914e-07</td>\n",
       "      <td>0.000106</td>\n",
       "      <td>0.154876</td>\n",
       "    </tr>\n",
       "    <tr>\n",
       "      <th>V12</th>\n",
       "      <td>0.124349</td>\n",
       "      <td>-3.015810e-08</td>\n",
       "      <td>-1.272285e-08</td>\n",
       "      <td>5.136395e-08</td>\n",
       "      <td>-3.959537e-08</td>\n",
       "      <td>-1.004718e-09</td>\n",
       "      <td>-5.399606e-08</td>\n",
       "      <td>1.411631e-07</td>\n",
       "      <td>-3.844534e-08</td>\n",
       "      <td>4.900242e-08</td>\n",
       "      <td>...</td>\n",
       "      <td>3.935762e-08</td>\n",
       "      <td>9.812642e-08</td>\n",
       "      <td>6.681366e-08</td>\n",
       "      <td>1.605598e-09</td>\n",
       "      <td>-1.006173e-07</td>\n",
       "      <td>-1.879035e-07</td>\n",
       "      <td>-6.620427e-10</td>\n",
       "      <td>4.571507e-09</td>\n",
       "      <td>-0.009542</td>\n",
       "      <td>-0.260593</td>\n",
       "    </tr>\n",
       "    <tr>\n",
       "      <th>V13</th>\n",
       "      <td>-0.065901</td>\n",
       "      <td>-1.807076e-07</td>\n",
       "      <td>-7.624374e-08</td>\n",
       "      <td>3.078026e-07</td>\n",
       "      <td>-2.372691e-07</td>\n",
       "      <td>-6.031489e-09</td>\n",
       "      <td>-3.235525e-07</td>\n",
       "      <td>8.458897e-07</td>\n",
       "      <td>-2.303722e-07</td>\n",
       "      <td>2.936486e-07</td>\n",
       "      <td>...</td>\n",
       "      <td>2.358350e-07</td>\n",
       "      <td>5.880147e-07</td>\n",
       "      <td>4.003739e-07</td>\n",
       "      <td>9.638762e-09</td>\n",
       "      <td>-6.029353e-07</td>\n",
       "      <td>-1.125975e-06</td>\n",
       "      <td>-3.965739e-09</td>\n",
       "      <td>2.743149e-08</td>\n",
       "      <td>0.005294</td>\n",
       "      <td>-0.004570</td>\n",
       "    </tr>\n",
       "    <tr>\n",
       "      <th>V14</th>\n",
       "      <td>-0.098757</td>\n",
       "      <td>-8.410593e-08</td>\n",
       "      <td>-3.548534e-08</td>\n",
       "      <td>1.432581e-07</td>\n",
       "      <td>-1.104321e-07</td>\n",
       "      <td>-2.807269e-09</td>\n",
       "      <td>-1.505905e-07</td>\n",
       "      <td>3.936985e-07</td>\n",
       "      <td>-1.072234e-07</td>\n",
       "      <td>1.366689e-07</td>\n",
       "      <td>...</td>\n",
       "      <td>1.097634e-07</td>\n",
       "      <td>2.736780e-07</td>\n",
       "      <td>1.863422e-07</td>\n",
       "      <td>4.482657e-09</td>\n",
       "      <td>-2.806181e-07</td>\n",
       "      <td>-5.240532e-07</td>\n",
       "      <td>-1.850507e-09</td>\n",
       "      <td>1.276868e-08</td>\n",
       "      <td>0.033751</td>\n",
       "      <td>-0.302544</td>\n",
       "    </tr>\n",
       "    <tr>\n",
       "      <th>V15</th>\n",
       "      <td>-0.183454</td>\n",
       "      <td>4.317931e-08</td>\n",
       "      <td>1.821813e-08</td>\n",
       "      <td>-7.354800e-08</td>\n",
       "      <td>5.669636e-08</td>\n",
       "      <td>1.439594e-09</td>\n",
       "      <td>7.731110e-08</td>\n",
       "      <td>-2.021216e-07</td>\n",
       "      <td>5.504851e-08</td>\n",
       "      <td>-7.016527e-08</td>\n",
       "      <td>...</td>\n",
       "      <td>-5.635189e-08</td>\n",
       "      <td>-1.405047e-07</td>\n",
       "      <td>-9.566815e-08</td>\n",
       "      <td>-2.306377e-09</td>\n",
       "      <td>1.440673e-07</td>\n",
       "      <td>2.690479e-07</td>\n",
       "      <td>9.440983e-10</td>\n",
       "      <td>-6.560497e-09</td>\n",
       "      <td>-0.002986</td>\n",
       "      <td>-0.004223</td>\n",
       "    </tr>\n",
       "    <tr>\n",
       "      <th>V16</th>\n",
       "      <td>0.011905</td>\n",
       "      <td>-3.302315e-07</td>\n",
       "      <td>-1.393281e-07</td>\n",
       "      <td>5.624860e-07</td>\n",
       "      <td>-4.335916e-07</td>\n",
       "      <td>-1.102196e-08</td>\n",
       "      <td>-5.912682e-07</td>\n",
       "      <td>1.545797e-06</td>\n",
       "      <td>-4.209904e-07</td>\n",
       "      <td>5.366193e-07</td>\n",
       "      <td>...</td>\n",
       "      <td>4.309726e-07</td>\n",
       "      <td>1.074554e-06</td>\n",
       "      <td>7.316458e-07</td>\n",
       "      <td>1.761345e-08</td>\n",
       "      <td>-1.101813e-06</td>\n",
       "      <td>-2.057628e-06</td>\n",
       "      <td>-7.249146e-09</td>\n",
       "      <td>5.014185e-08</td>\n",
       "      <td>-0.003909</td>\n",
       "      <td>-0.196539</td>\n",
       "    </tr>\n",
       "    <tr>\n",
       "      <th>V17</th>\n",
       "      <td>-0.073293</td>\n",
       "      <td>-7.434637e-07</td>\n",
       "      <td>-3.136730e-07</td>\n",
       "      <td>1.266356e-06</td>\n",
       "      <td>-9.761687e-07</td>\n",
       "      <td>-2.481412e-08</td>\n",
       "      <td>-1.331156e-06</td>\n",
       "      <td>3.480138e-06</td>\n",
       "      <td>-9.477934e-07</td>\n",
       "      <td>1.208116e-06</td>\n",
       "      <td>...</td>\n",
       "      <td>9.702760e-07</td>\n",
       "      <td>2.419196e-06</td>\n",
       "      <td>1.647191e-06</td>\n",
       "      <td>3.965295e-08</td>\n",
       "      <td>-2.480568e-06</td>\n",
       "      <td>-4.632442e-06</td>\n",
       "      <td>-1.633753e-08</td>\n",
       "      <td>1.128876e-07</td>\n",
       "      <td>0.007310</td>\n",
       "      <td>-0.326482</td>\n",
       "    </tr>\n",
       "    <tr>\n",
       "      <th>V18</th>\n",
       "      <td>0.090437</td>\n",
       "      <td>1.910052e-07</td>\n",
       "      <td>8.058710e-08</td>\n",
       "      <td>-3.253441e-07</td>\n",
       "      <td>2.507889e-07</td>\n",
       "      <td>6.376211e-09</td>\n",
       "      <td>3.419919e-07</td>\n",
       "      <td>-8.940926e-07</td>\n",
       "      <td>2.435019e-07</td>\n",
       "      <td>-3.103800e-07</td>\n",
       "      <td>...</td>\n",
       "      <td>-2.492780e-07</td>\n",
       "      <td>-6.215209e-07</td>\n",
       "      <td>-4.231869e-07</td>\n",
       "      <td>-1.018358e-08</td>\n",
       "      <td>6.372915e-07</td>\n",
       "      <td>1.190132e-06</td>\n",
       "      <td>4.192029e-09</td>\n",
       "      <td>-2.899768e-08</td>\n",
       "      <td>0.035650</td>\n",
       "      <td>-0.111485</td>\n",
       "    </tr>\n",
       "    <tr>\n",
       "      <th>V19</th>\n",
       "      <td>0.028977</td>\n",
       "      <td>-3.008465e-07</td>\n",
       "      <td>-1.269290e-07</td>\n",
       "      <td>5.124309e-07</td>\n",
       "      <td>-3.950082e-07</td>\n",
       "      <td>-1.004052e-08</td>\n",
       "      <td>-5.386522e-07</td>\n",
       "      <td>1.408236e-06</td>\n",
       "      <td>-3.835234e-07</td>\n",
       "      <td>4.888644e-07</td>\n",
       "      <td>...</td>\n",
       "      <td>3.926217e-07</td>\n",
       "      <td>9.789289e-07</td>\n",
       "      <td>6.665366e-07</td>\n",
       "      <td>1.604775e-08</td>\n",
       "      <td>-1.003764e-06</td>\n",
       "      <td>-1.874519e-06</td>\n",
       "      <td>-6.612654e-09</td>\n",
       "      <td>4.568273e-08</td>\n",
       "      <td>-0.056150</td>\n",
       "      <td>0.034783</td>\n",
       "    </tr>\n",
       "    <tr>\n",
       "      <th>V20</th>\n",
       "      <td>-0.050869</td>\n",
       "      <td>4.749817e-07</td>\n",
       "      <td>2.003997e-07</td>\n",
       "      <td>-8.090418e-07</td>\n",
       "      <td>6.236474e-07</td>\n",
       "      <td>1.585306e-08</td>\n",
       "      <td>8.504404e-07</td>\n",
       "      <td>-2.223366e-06</td>\n",
       "      <td>6.055217e-07</td>\n",
       "      <td>-7.718345e-07</td>\n",
       "      <td>...</td>\n",
       "      <td>-6.198878e-07</td>\n",
       "      <td>-1.545562e-06</td>\n",
       "      <td>-1.052360e-06</td>\n",
       "      <td>-2.533333e-08</td>\n",
       "      <td>1.584774e-06</td>\n",
       "      <td>2.959553e-06</td>\n",
       "      <td>1.043379e-08</td>\n",
       "      <td>-7.211375e-08</td>\n",
       "      <td>0.339403</td>\n",
       "      <td>0.020090</td>\n",
       "    </tr>\n",
       "    <tr>\n",
       "      <th>V21</th>\n",
       "      <td>0.044734</td>\n",
       "      <td>3.398400e-07</td>\n",
       "      <td>1.433853e-07</td>\n",
       "      <td>-5.788599e-07</td>\n",
       "      <td>4.462109e-07</td>\n",
       "      <td>1.134104e-08</td>\n",
       "      <td>6.084826e-07</td>\n",
       "      <td>-1.590793e-06</td>\n",
       "      <td>4.332393e-07</td>\n",
       "      <td>-5.522357e-07</td>\n",
       "      <td>...</td>\n",
       "      <td>1.000000e+00</td>\n",
       "      <td>-1.105835e-06</td>\n",
       "      <td>-7.529422e-07</td>\n",
       "      <td>-1.812424e-08</td>\n",
       "      <td>1.133884e-06</td>\n",
       "      <td>2.117524e-06</td>\n",
       "      <td>7.466539e-09</td>\n",
       "      <td>-5.159661e-08</td>\n",
       "      <td>0.105998</td>\n",
       "      <td>0.040413</td>\n",
       "    </tr>\n",
       "    <tr>\n",
       "      <th>V22</th>\n",
       "      <td>0.144055</td>\n",
       "      <td>8.473373e-07</td>\n",
       "      <td>3.574983e-07</td>\n",
       "      <td>-1.443281e-06</td>\n",
       "      <td>1.112550e-06</td>\n",
       "      <td>2.828181e-08</td>\n",
       "      <td>1.517132e-06</td>\n",
       "      <td>-3.966350e-06</td>\n",
       "      <td>1.080208e-06</td>\n",
       "      <td>-1.376904e-06</td>\n",
       "      <td>...</td>\n",
       "      <td>-1.105835e-06</td>\n",
       "      <td>1.000000e+00</td>\n",
       "      <td>-1.877323e-06</td>\n",
       "      <td>-4.519635e-08</td>\n",
       "      <td>2.827136e-06</td>\n",
       "      <td>5.279643e-06</td>\n",
       "      <td>1.861836e-08</td>\n",
       "      <td>-1.286511e-07</td>\n",
       "      <td>-0.064802</td>\n",
       "      <td>0.000805</td>\n",
       "    </tr>\n",
       "    <tr>\n",
       "      <th>V23</th>\n",
       "      <td>0.051139</td>\n",
       "      <td>5.769342e-07</td>\n",
       "      <td>2.434103e-07</td>\n",
       "      <td>-9.827024e-07</td>\n",
       "      <td>7.575133e-07</td>\n",
       "      <td>1.925978e-08</td>\n",
       "      <td>1.032991e-06</td>\n",
       "      <td>-2.700630e-06</td>\n",
       "      <td>7.354993e-07</td>\n",
       "      <td>-9.375128e-07</td>\n",
       "      <td>...</td>\n",
       "      <td>-7.529422e-07</td>\n",
       "      <td>-1.877323e-06</td>\n",
       "      <td>1.000000e+00</td>\n",
       "      <td>-3.077037e-08</td>\n",
       "      <td>1.924948e-06</td>\n",
       "      <td>3.594826e-06</td>\n",
       "      <td>1.268627e-08</td>\n",
       "      <td>-8.759673e-08</td>\n",
       "      <td>-0.112634</td>\n",
       "      <td>-0.002685</td>\n",
       "    </tr>\n",
       "    <tr>\n",
       "      <th>V24</th>\n",
       "      <td>-0.016182</td>\n",
       "      <td>1.388833e-08</td>\n",
       "      <td>5.860695e-09</td>\n",
       "      <td>-2.365457e-08</td>\n",
       "      <td>1.823434e-08</td>\n",
       "      <td>4.632979e-10</td>\n",
       "      <td>2.487012e-08</td>\n",
       "      <td>-6.501824e-08</td>\n",
       "      <td>1.770554e-08</td>\n",
       "      <td>-2.256909e-08</td>\n",
       "      <td>...</td>\n",
       "      <td>-1.812424e-08</td>\n",
       "      <td>-4.519635e-08</td>\n",
       "      <td>-3.077037e-08</td>\n",
       "      <td>1.000000e+00</td>\n",
       "      <td>4.633796e-08</td>\n",
       "      <td>8.654458e-08</td>\n",
       "      <td>3.067462e-10</td>\n",
       "      <td>-2.095115e-09</td>\n",
       "      <td>0.005146</td>\n",
       "      <td>-0.007221</td>\n",
       "    </tr>\n",
       "    <tr>\n",
       "      <th>V25</th>\n",
       "      <td>-0.233079</td>\n",
       "      <td>-8.688316e-07</td>\n",
       "      <td>-3.665696e-07</td>\n",
       "      <td>1.479898e-06</td>\n",
       "      <td>-1.140774e-06</td>\n",
       "      <td>-2.899717e-08</td>\n",
       "      <td>-1.555627e-06</td>\n",
       "      <td>4.066979e-06</td>\n",
       "      <td>-1.107620e-06</td>\n",
       "      <td>1.411835e-06</td>\n",
       "      <td>...</td>\n",
       "      <td>1.133884e-06</td>\n",
       "      <td>2.827136e-06</td>\n",
       "      <td>1.924948e-06</td>\n",
       "      <td>4.633796e-08</td>\n",
       "      <td>1.000000e+00</td>\n",
       "      <td>-5.413592e-06</td>\n",
       "      <td>-1.909153e-08</td>\n",
       "      <td>1.319126e-07</td>\n",
       "      <td>-0.047835</td>\n",
       "      <td>0.003308</td>\n",
       "    </tr>\n",
       "    <tr>\n",
       "      <th>V26</th>\n",
       "      <td>-0.041398</td>\n",
       "      <td>-1.622534e-06</td>\n",
       "      <td>-6.845636e-07</td>\n",
       "      <td>2.763690e-06</td>\n",
       "      <td>-2.130388e-06</td>\n",
       "      <td>-5.415482e-08</td>\n",
       "      <td>-2.905109e-06</td>\n",
       "      <td>7.595039e-06</td>\n",
       "      <td>-2.068462e-06</td>\n",
       "      <td>2.636590e-06</td>\n",
       "      <td>...</td>\n",
       "      <td>2.117524e-06</td>\n",
       "      <td>5.279643e-06</td>\n",
       "      <td>3.594826e-06</td>\n",
       "      <td>8.654458e-08</td>\n",
       "      <td>-5.413592e-06</td>\n",
       "      <td>1.000000e+00</td>\n",
       "      <td>-3.564969e-08</td>\n",
       "      <td>2.463511e-07</td>\n",
       "      <td>-0.003205</td>\n",
       "      <td>0.004455</td>\n",
       "    </tr>\n",
       "    <tr>\n",
       "      <th>V27</th>\n",
       "      <td>-0.005135</td>\n",
       "      <td>-5.714209e-09</td>\n",
       "      <td>-2.415081e-09</td>\n",
       "      <td>9.741052e-09</td>\n",
       "      <td>-7.514214e-09</td>\n",
       "      <td>-1.930995e-10</td>\n",
       "      <td>-1.024332e-08</td>\n",
       "      <td>2.677044e-08</td>\n",
       "      <td>-7.297882e-09</td>\n",
       "      <td>9.300299e-09</td>\n",
       "      <td>...</td>\n",
       "      <td>7.466539e-09</td>\n",
       "      <td>1.861836e-08</td>\n",
       "      <td>1.268627e-08</td>\n",
       "      <td>3.067462e-10</td>\n",
       "      <td>-1.909153e-08</td>\n",
       "      <td>-3.564969e-08</td>\n",
       "      <td>1.000000e+00</td>\n",
       "      <td>8.643464e-10</td>\n",
       "      <td>0.028825</td>\n",
       "      <td>0.017580</td>\n",
       "    </tr>\n",
       "    <tr>\n",
       "      <th>V28</th>\n",
       "      <td>-0.009413</td>\n",
       "      <td>3.953780e-08</td>\n",
       "      <td>1.668431e-08</td>\n",
       "      <td>-6.734186e-08</td>\n",
       "      <td>5.191151e-08</td>\n",
       "      <td>1.329769e-09</td>\n",
       "      <td>7.079262e-08</td>\n",
       "      <td>-1.850795e-07</td>\n",
       "      <td>5.040720e-08</td>\n",
       "      <td>-6.425117e-08</td>\n",
       "      <td>...</td>\n",
       "      <td>-5.159661e-08</td>\n",
       "      <td>-1.286511e-07</td>\n",
       "      <td>-8.759673e-08</td>\n",
       "      <td>-2.095115e-09</td>\n",
       "      <td>1.319126e-07</td>\n",
       "      <td>2.463511e-07</td>\n",
       "      <td>8.643464e-10</td>\n",
       "      <td>1.000000e+00</td>\n",
       "      <td>0.010258</td>\n",
       "      <td>0.009536</td>\n",
       "    </tr>\n",
       "    <tr>\n",
       "      <th>Amount</th>\n",
       "      <td>-0.010599</td>\n",
       "      <td>-2.277083e-01</td>\n",
       "      <td>-5.314090e-01</td>\n",
       "      <td>-2.108815e-01</td>\n",
       "      <td>9.873238e-02</td>\n",
       "      <td>-3.863564e-01</td>\n",
       "      <td>2.159823e-01</td>\n",
       "      <td>3.973103e-01</td>\n",
       "      <td>-1.030785e-01</td>\n",
       "      <td>-4.424644e-02</td>\n",
       "      <td>...</td>\n",
       "      <td>1.059984e-01</td>\n",
       "      <td>-6.480237e-02</td>\n",
       "      <td>-1.126338e-01</td>\n",
       "      <td>5.146194e-03</td>\n",
       "      <td>-4.783531e-02</td>\n",
       "      <td>-3.204990e-03</td>\n",
       "      <td>2.882549e-02</td>\n",
       "      <td>1.025815e-02</td>\n",
       "      <td>1.000000</td>\n",
       "      <td>0.005632</td>\n",
       "    </tr>\n",
       "    <tr>\n",
       "      <th>Class</th>\n",
       "      <td>-0.012322</td>\n",
       "      <td>-1.013474e-01</td>\n",
       "      <td>9.128864e-02</td>\n",
       "      <td>-1.929608e-01</td>\n",
       "      <td>1.334475e-01</td>\n",
       "      <td>-9.497430e-02</td>\n",
       "      <td>-4.364325e-02</td>\n",
       "      <td>-1.872569e-01</td>\n",
       "      <td>1.987508e-02</td>\n",
       "      <td>-9.773266e-02</td>\n",
       "      <td>...</td>\n",
       "      <td>4.041344e-02</td>\n",
       "      <td>8.054480e-04</td>\n",
       "      <td>-2.685069e-03</td>\n",
       "      <td>-7.220905e-03</td>\n",
       "      <td>3.307578e-03</td>\n",
       "      <td>4.455172e-03</td>\n",
       "      <td>1.757973e-02</td>\n",
       "      <td>9.536047e-03</td>\n",
       "      <td>0.005632</td>\n",
       "      <td>1.000000</td>\n",
       "    </tr>\n",
       "  </tbody>\n",
       "</table>\n",
       "<p>31 rows × 31 columns</p>\n",
       "</div>"
      ],
      "text/plain": [
       "            Time            V1            V2            V3            V4  \\\n",
       "Time    1.000000  1.173984e-01 -1.059272e-02 -4.196230e-01 -1.052587e-01   \n",
       "V1      0.117398  1.000000e+00 -1.098624e-07  4.435455e-07 -3.419080e-07   \n",
       "V2     -0.010593 -1.098624e-07  1.000000e+00  1.871392e-07 -1.442564e-07   \n",
       "V3     -0.419623  4.435455e-07  1.871392e-07  1.000000e+00  5.823775e-07   \n",
       "V4     -0.105259 -3.419080e-07 -1.442564e-07  5.823775e-07  1.000000e+00   \n",
       "V5      0.173073 -8.694801e-09 -3.668784e-09  1.480005e-08 -1.141195e-08   \n",
       "V6     -0.063014 -4.662443e-07 -1.967118e-07  7.941612e-07 -6.121767e-07   \n",
       "V7      0.084708  1.218935e-06  5.142857e-07 -2.076230e-06  1.600461e-06   \n",
       "V8     -0.036948 -3.319674e-07 -1.400610e-07  5.654478e-07 -4.358746e-07   \n",
       "V9     -0.008663  4.231489e-07  1.785308e-07 -7.207571e-07  5.555930e-07   \n",
       "V10     0.030622 -8.039077e-07 -3.391736e-07  1.369303e-06 -1.055528e-06   \n",
       "V11    -0.247685 -9.746971e-07 -4.112354e-07  1.660222e-06 -1.279776e-06   \n",
       "V12     0.124349 -3.015810e-08 -1.272285e-08  5.136395e-08 -3.959537e-08   \n",
       "V13    -0.065901 -1.807076e-07 -7.624374e-08  3.078026e-07 -2.372691e-07   \n",
       "V14    -0.098757 -8.410593e-08 -3.548534e-08  1.432581e-07 -1.104321e-07   \n",
       "V15    -0.183454  4.317931e-08  1.821813e-08 -7.354800e-08  5.669636e-08   \n",
       "V16     0.011905 -3.302315e-07 -1.393281e-07  5.624860e-07 -4.335916e-07   \n",
       "V17    -0.073293 -7.434637e-07 -3.136730e-07  1.266356e-06 -9.761687e-07   \n",
       "V18     0.090437  1.910052e-07  8.058710e-08 -3.253441e-07  2.507889e-07   \n",
       "V19     0.028977 -3.008465e-07 -1.269290e-07  5.124309e-07 -3.950082e-07   \n",
       "V20    -0.050869  4.749817e-07  2.003997e-07 -8.090418e-07  6.236474e-07   \n",
       "V21     0.044734  3.398400e-07  1.433853e-07 -5.788599e-07  4.462109e-07   \n",
       "V22     0.144055  8.473373e-07  3.574983e-07 -1.443281e-06  1.112550e-06   \n",
       "V23     0.051139  5.769342e-07  2.434103e-07 -9.827024e-07  7.575133e-07   \n",
       "V24    -0.016182  1.388833e-08  5.860695e-09 -2.365457e-08  1.823434e-08   \n",
       "V25    -0.233079 -8.688316e-07 -3.665696e-07  1.479898e-06 -1.140774e-06   \n",
       "V26    -0.041398 -1.622534e-06 -6.845636e-07  2.763690e-06 -2.130388e-06   \n",
       "V27    -0.005135 -5.714209e-09 -2.415081e-09  9.741052e-09 -7.514214e-09   \n",
       "V28    -0.009413  3.953780e-08  1.668431e-08 -6.734186e-08  5.191151e-08   \n",
       "Amount -0.010599 -2.277083e-01 -5.314090e-01 -2.108815e-01  9.873238e-02   \n",
       "Class  -0.012322 -1.013474e-01  9.128864e-02 -1.929608e-01  1.334475e-01   \n",
       "\n",
       "                  V5            V6            V7            V8            V9  \\\n",
       "Time    1.730730e-01 -6.301398e-02  8.470767e-02 -3.694762e-02 -8.663029e-03   \n",
       "V1     -8.694801e-09 -4.662443e-07  1.218935e-06 -3.319674e-07  4.231489e-07   \n",
       "V2     -3.668784e-09 -1.967118e-07  5.142857e-07 -1.400610e-07  1.785308e-07   \n",
       "V3      1.480005e-08  7.941612e-07 -2.076230e-06  5.654478e-07 -7.207571e-07   \n",
       "V4     -1.141195e-08 -6.121767e-07  1.600461e-06 -4.358746e-07  5.555930e-07   \n",
       "V5      1.000000e+00 -1.556168e-08  4.069958e-08 -1.108203e-08  1.412224e-08   \n",
       "V6     -1.556168e-08  1.000000e+00  2.182472e-06 -5.943839e-07  7.576399e-07   \n",
       "V7      4.069958e-08  2.182472e-06  1.000000e+00  1.553945e-06 -1.980746e-06   \n",
       "V8     -1.108203e-08 -5.943839e-07  1.553945e-06  1.000000e+00  5.394418e-07   \n",
       "V9      1.412224e-08  7.576399e-07 -1.980746e-06  5.394418e-07  1.000000e+00   \n",
       "V10    -2.683228e-08 -1.439372e-06  3.763057e-06 -1.024846e-06  1.306332e-06   \n",
       "V11    -3.253266e-08 -1.745174e-06  4.562535e-06 -1.242577e-06  1.583867e-06   \n",
       "V12    -1.004718e-09 -5.399606e-08  1.411631e-07 -3.844534e-08  4.900242e-08   \n",
       "V13    -6.031489e-09 -3.235525e-07  8.458897e-07 -2.303722e-07  2.936486e-07   \n",
       "V14    -2.807269e-09 -1.505905e-07  3.936985e-07 -1.072234e-07  1.366689e-07   \n",
       "V15     1.439594e-09  7.731110e-08 -2.021216e-07  5.504851e-08 -7.016527e-08   \n",
       "V16    -1.102196e-08 -5.912682e-07  1.545797e-06 -4.209904e-07  5.366193e-07   \n",
       "V17    -2.481412e-08 -1.331156e-06  3.480138e-06 -9.477934e-07  1.208116e-06   \n",
       "V18     6.376211e-09  3.419919e-07 -8.940926e-07  2.435019e-07 -3.103800e-07   \n",
       "V19    -1.004052e-08 -5.386522e-07  1.408236e-06 -3.835234e-07  4.888644e-07   \n",
       "V20     1.585306e-08  8.504404e-07 -2.223366e-06  6.055217e-07 -7.718345e-07   \n",
       "V21     1.134104e-08  6.084826e-07 -1.590793e-06  4.332393e-07 -5.522357e-07   \n",
       "V22     2.828181e-08  1.517132e-06 -3.966350e-06  1.080208e-06 -1.376904e-06   \n",
       "V23     1.925978e-08  1.032991e-06 -2.700630e-06  7.354993e-07 -9.375128e-07   \n",
       "V24     4.632979e-10  2.487012e-08 -6.501824e-08  1.770554e-08 -2.256909e-08   \n",
       "V25    -2.899717e-08 -1.555627e-06  4.066979e-06 -1.107620e-06  1.411835e-06   \n",
       "V26    -5.415482e-08 -2.905109e-06  7.595039e-06 -2.068462e-06  2.636590e-06   \n",
       "V27    -1.930995e-10 -1.024332e-08  2.677044e-08 -7.297882e-09  9.300299e-09   \n",
       "V28     1.329769e-09  7.079262e-08 -1.850795e-07  5.040720e-08 -6.425117e-08   \n",
       "Amount -3.863564e-01  2.159823e-01  3.973103e-01 -1.030785e-01 -4.424644e-02   \n",
       "Class  -9.497430e-02 -4.364325e-02 -1.872569e-01  1.987508e-02 -9.773266e-02   \n",
       "\n",
       "        ...           V21           V22           V23           V24  \\\n",
       "Time    ...  4.473390e-02  1.440548e-01  5.113916e-02 -1.618203e-02   \n",
       "V1      ...  3.398400e-07  8.473373e-07  5.769342e-07  1.388833e-08   \n",
       "V2      ...  1.433853e-07  3.574983e-07  2.434103e-07  5.860695e-09   \n",
       "V3      ... -5.788599e-07 -1.443281e-06 -9.827024e-07 -2.365457e-08   \n",
       "V4      ...  4.462109e-07  1.112550e-06  7.575133e-07  1.823434e-08   \n",
       "V5      ...  1.134104e-08  2.828181e-08  1.925978e-08  4.632979e-10   \n",
       "V6      ...  6.084826e-07  1.517132e-06  1.032991e-06  2.487012e-08   \n",
       "V7      ... -1.590793e-06 -3.966350e-06 -2.700630e-06 -6.501824e-08   \n",
       "V8      ...  4.332393e-07  1.080208e-06  7.354993e-07  1.770554e-08   \n",
       "V9      ... -5.522357e-07 -1.376904e-06 -9.375128e-07 -2.256909e-08   \n",
       "V10     ...  1.049152e-06  2.615863e-06  1.781101e-06  4.287940e-08   \n",
       "V11     ...  1.272050e-06  3.171617e-06  2.159506e-06  5.198741e-08   \n",
       "V12     ...  3.935762e-08  9.812642e-08  6.681366e-08  1.605598e-09   \n",
       "V13     ...  2.358350e-07  5.880147e-07  4.003739e-07  9.638762e-09   \n",
       "V14     ...  1.097634e-07  2.736780e-07  1.863422e-07  4.482657e-09   \n",
       "V15     ... -5.635189e-08 -1.405047e-07 -9.566815e-08 -2.306377e-09   \n",
       "V16     ...  4.309726e-07  1.074554e-06  7.316458e-07  1.761345e-08   \n",
       "V17     ...  9.702760e-07  2.419196e-06  1.647191e-06  3.965295e-08   \n",
       "V18     ... -2.492780e-07 -6.215209e-07 -4.231869e-07 -1.018358e-08   \n",
       "V19     ...  3.926217e-07  9.789289e-07  6.665366e-07  1.604775e-08   \n",
       "V20     ... -6.198878e-07 -1.545562e-06 -1.052360e-06 -2.533333e-08   \n",
       "V21     ...  1.000000e+00 -1.105835e-06 -7.529422e-07 -1.812424e-08   \n",
       "V22     ... -1.105835e-06  1.000000e+00 -1.877323e-06 -4.519635e-08   \n",
       "V23     ... -7.529422e-07 -1.877323e-06  1.000000e+00 -3.077037e-08   \n",
       "V24     ... -1.812424e-08 -4.519635e-08 -3.077037e-08  1.000000e+00   \n",
       "V25     ...  1.133884e-06  2.827136e-06  1.924948e-06  4.633796e-08   \n",
       "V26     ...  2.117524e-06  5.279643e-06  3.594826e-06  8.654458e-08   \n",
       "V27     ...  7.466539e-09  1.861836e-08  1.268627e-08  3.067462e-10   \n",
       "V28     ... -5.159661e-08 -1.286511e-07 -8.759673e-08 -2.095115e-09   \n",
       "Amount  ...  1.059984e-01 -6.480237e-02 -1.126338e-01  5.146194e-03   \n",
       "Class   ...  4.041344e-02  8.054480e-04 -2.685069e-03 -7.220905e-03   \n",
       "\n",
       "                 V25           V26           V27           V28    Amount  \\\n",
       "Time   -2.330790e-01 -4.139772e-02 -5.134581e-03 -9.412971e-03 -0.010599   \n",
       "V1     -8.688316e-07 -1.622534e-06 -5.714209e-09  3.953780e-08 -0.227708   \n",
       "V2     -3.665696e-07 -6.845636e-07 -2.415081e-09  1.668431e-08 -0.531409   \n",
       "V3      1.479898e-06  2.763690e-06  9.741052e-09 -6.734186e-08 -0.210881   \n",
       "V4     -1.140774e-06 -2.130388e-06 -7.514214e-09  5.191151e-08  0.098732   \n",
       "V5     -2.899717e-08 -5.415482e-08 -1.930995e-10  1.329769e-09 -0.386356   \n",
       "V6     -1.555627e-06 -2.905109e-06 -1.024332e-08  7.079262e-08  0.215982   \n",
       "V7      4.066979e-06  7.595039e-06  2.677044e-08 -1.850795e-07  0.397310   \n",
       "V8     -1.107620e-06 -2.068462e-06 -7.297882e-09  5.040720e-08 -0.103079   \n",
       "V9      1.411835e-06  2.636590e-06  9.300299e-09 -6.425117e-08 -0.044246   \n",
       "V10    -2.682227e-06 -5.009038e-06 -1.766269e-08  1.220679e-07 -0.101501   \n",
       "V11    -3.252085e-06 -6.073231e-06 -2.142106e-08  1.479914e-07  0.000106   \n",
       "V12    -1.006173e-07 -1.879035e-07 -6.620427e-10  4.571507e-09 -0.009542   \n",
       "V13    -6.029353e-07 -1.125975e-06 -3.965739e-09  2.743149e-08  0.005294   \n",
       "V14    -2.806181e-07 -5.240532e-07 -1.850507e-09  1.276868e-08  0.033751   \n",
       "V15     1.440673e-07  2.690479e-07  9.440983e-10 -6.560497e-09 -0.002986   \n",
       "V16    -1.101813e-06 -2.057628e-06 -7.249146e-09  5.014185e-08 -0.003909   \n",
       "V17    -2.480568e-06 -4.632442e-06 -1.633753e-08  1.128876e-07  0.007310   \n",
       "V18     6.372915e-07  1.190132e-06  4.192029e-09 -2.899768e-08  0.035650   \n",
       "V19    -1.003764e-06 -1.874519e-06 -6.612654e-09  4.568273e-08 -0.056150   \n",
       "V20     1.584774e-06  2.959553e-06  1.043379e-08 -7.211375e-08  0.339403   \n",
       "V21     1.133884e-06  2.117524e-06  7.466539e-09 -5.159661e-08  0.105998   \n",
       "V22     2.827136e-06  5.279643e-06  1.861836e-08 -1.286511e-07 -0.064802   \n",
       "V23     1.924948e-06  3.594826e-06  1.268627e-08 -8.759673e-08 -0.112634   \n",
       "V24     4.633796e-08  8.654458e-08  3.067462e-10 -2.095115e-09  0.005146   \n",
       "V25     1.000000e+00 -5.413592e-06 -1.909153e-08  1.319126e-07 -0.047835   \n",
       "V26    -5.413592e-06  1.000000e+00 -3.564969e-08  2.463511e-07 -0.003205   \n",
       "V27    -1.909153e-08 -3.564969e-08  1.000000e+00  8.643464e-10  0.028825   \n",
       "V28     1.319126e-07  2.463511e-07  8.643464e-10  1.000000e+00  0.010258   \n",
       "Amount -4.783531e-02 -3.204990e-03  2.882549e-02  1.025815e-02  1.000000   \n",
       "Class   3.307578e-03  4.455172e-03  1.757973e-02  9.536047e-03  0.005632   \n",
       "\n",
       "           Class  \n",
       "Time   -0.012322  \n",
       "V1     -0.101347  \n",
       "V2      0.091289  \n",
       "V3     -0.192961  \n",
       "V4      0.133447  \n",
       "V5     -0.094974  \n",
       "V6     -0.043643  \n",
       "V7     -0.187257  \n",
       "V8      0.019875  \n",
       "V9     -0.097733  \n",
       "V10    -0.216883  \n",
       "V11     0.154876  \n",
       "V12    -0.260593  \n",
       "V13    -0.004570  \n",
       "V14    -0.302544  \n",
       "V15    -0.004223  \n",
       "V16    -0.196539  \n",
       "V17    -0.326482  \n",
       "V18    -0.111485  \n",
       "V19     0.034783  \n",
       "V20     0.020090  \n",
       "V21     0.040413  \n",
       "V22     0.000805  \n",
       "V23    -0.002685  \n",
       "V24    -0.007221  \n",
       "V25     0.003308  \n",
       "V26     0.004455  \n",
       "V27     0.017580  \n",
       "V28     0.009536  \n",
       "Amount  0.005632  \n",
       "Class   1.000000  \n",
       "\n",
       "[31 rows x 31 columns]"
      ]
     },
     "execution_count": 7,
     "metadata": {},
     "output_type": "execute_result"
    }
   ],
   "source": [
    "# Checking the correlation\n",
    "corr = df.corr()\n",
    "corr"
   ]
  },
  {
   "cell_type": "code",
   "execution_count": 8,
   "id": "a5ef26d3",
   "metadata": {},
   "outputs": [
    {
     "data": {
      "image/png": "[encoded data removed]",
      "text/plain": [
       "<Figure size 1728x1296 with 2 Axes>"
      ]
     },
     "metadata": {
      "needs_background": "light"
     },
     "output_type": "display_data"
    }
   ],
   "source": [
    "# Checking the correlation in heatmap\n",
    "plt.figure(figsize=(24,18))\n",
    "\n",
    "sns.heatmap(corr, cmap=\"coolwarm\", annot=True)\n",
    "plt.show()"
   ]
  },
  {
   "cell_type": "code",
   "execution_count": 9,
   "id": "5a534d8b",
   "metadata": {},
   "outputs": [
    {
     "ename": "NameError",
     "evalue": "name 'X' is not defined",
     "output_type": "error",
     "traceback": [
      "\u001b[1;31m---------------------------------------------------------------------------\u001b[0m",
      "\u001b[1;31mNameError\u001b[0m                                 Traceback (most recent call last)",
      "Input \u001b[1;32mIn [9]\u001b[0m, in \u001b[0;36m<cell line: 1>\u001b[1;34m()\u001b[0m\n\u001b[1;32m----> 1\u001b[0m X_train,X_test,y_train,y_test \u001b[38;5;241m=\u001b[39m train_test_split(\u001b[43mX\u001b[49m,y,test_size\u001b[38;5;241m=\u001b[39m\u001b[38;5;241m0.20\u001b[39m,\n\u001b[0;32m      2\u001b[0m                                                  random_state\u001b[38;5;241m=\u001b[39m\u001b[38;5;241m42\u001b[39m)\n",
      "\u001b[1;31mNameError\u001b[0m: name 'X' is not defined"
     ]
    }
   ],
   "source": [
    "X_train,X_test,y_train,y_test = train_test_split(X,y,test_size=0.20,\n",
    "                                                 random_state=42)"
   ]
  },
  {
   "cell_type": "code",
   "execution_count": null,
   "id": "c90cea3b",
   "metadata": {},
   "outputs": [],
   "source": [
    "# Accumulating all the column names under one variable\n",
    "cols = list(X.columns.values)"
   ]
  },
  {
   "cell_type": "code",
   "execution_count": null,
   "id": "5410f8fd",
   "metadata": {},
   "outputs": [],
   "source": [
    "# plot the histogram of a variable from the dataset to see the skewness\n",
    "normal_records = df.Class == 0\n",
    "fraud_records = df.Class == 1\n",
    "\n",
    "plt.figure(figsize=(20, 60))\n",
    "for n, col in enumerate(cols):\n",
    "  plt.subplot(10,3,n+1)\n",
    "  sns.distplot(X[col][normal_records], color='green')\n",
    "  sns.distplot(X[col][fraud_records], color='red')\n",
    "  plt.title(col, fontsize=17)\n",
    "plt.show()"
   ]
  },
  {
   "cell_type": "markdown",
   "id": "f5193cf8",
   "metadata": {},
   "source": [
    "# Feature Scaling"
   ]
  },
  {
   "cell_type": "code",
   "execution_count": null,
   "id": "0209a902",
   "metadata": {},
   "outputs": [],
   "source": [
    "sc=StandardScaler()\n",
    "df['Amount']=sc.fit_transform(pd.DataFrame(df['Amount']))"
   ]
  },
  {
   "cell_type": "code",
   "execution_count": null,
   "id": "9bb65736",
   "metadata": {
    "scrolled": true
   },
   "outputs": [],
   "source": [
    "df.head()"
   ]
  },
  {
   "cell_type": "code",
   "execution_count": null,
   "id": "dcd34916",
   "metadata": {},
   "outputs": [],
   "source": [
    "df=df.drop(['Time'],axis=1)"
   ]
  },
  {
   "cell_type": "code",
   "execution_count": null,
   "id": "f1998824",
   "metadata": {},
   "outputs": [],
   "source": [
    "df.head()"
   ]
  },
  {
   "cell_type": "code",
   "execution_count": null,
   "id": "09d8ecfd",
   "metadata": {},
   "outputs": [],
   "source": [
    "# drop duplicate if any\n",
    "\n",
    "df.duplicated().any()"
   ]
  },
  {
   "cell_type": "code",
   "execution_count": null,
   "id": "7b79624e",
   "metadata": {},
   "outputs": [],
   "source": [
    "df=df.drop_duplicates()\n",
    "df.shape"
   ]
  },
  {
   "cell_type": "code",
   "execution_count": null,
   "id": "329e2740",
   "metadata": {},
   "outputs": [],
   "source": [
    "# checking imbalance\n",
    "df['Class'].value_counts()"
   ]
  },
  {
   "cell_type": "code",
   "execution_count": null,
   "id": "50eee2e9",
   "metadata": {},
   "outputs": [],
   "source": [
    "sns.countplot(df['Class'])"
   ]
  },
  {
   "cell_type": "code",
   "execution_count": 16,
   "id": "192582cb",
   "metadata": {},
   "outputs": [],
   "source": [
    "# Splitting Dataset for training and testing\n",
    "\n",
    "X= df.drop('Class', axis=1)\n",
    "y= df['Class']"
   ]
  },
  {
   "cell_type": "code",
   "execution_count": 17,
   "id": "4d3a9f6b",
   "metadata": {},
   "outputs": [],
   "source": [
    "from sklearn.model_selection import train_test_split\n",
    "X_train,X_test,y_train,y_test = train_test_split(X,y,test_size=0.20,\n",
    "                                                 random_state=42)"
   ]
  },
  {
   "cell_type": "code",
   "execution_count": 18,
   "id": "a70b74df",
   "metadata": {},
   "outputs": [
    {
     "name": "stdout",
     "output_type": "stream",
     "text": [
      "(284314, 31)\n",
      "(492, 31)\n"
     ]
    }
   ],
   "source": [
    "# Undersampling\n",
    "\n",
    "Normal = df[df['Class']==0]\n",
    "Fraud = df[df['Class']==1]\n",
    "print(Normal.shape)\n",
    "print(Fraud.shape)\n"
   ]
  },
  {
   "cell_type": "code",
   "execution_count": 19,
   "id": "f9bcdd5f",
   "metadata": {},
   "outputs": [
    {
     "name": "stdout",
     "output_type": "stream",
     "text": [
      "(473, 31)\n"
     ]
    }
   ],
   "source": [
    "Normalsample=Normal.sample(n=473)\n",
    "print(Normalsample.shape)"
   ]
  },
  {
   "cell_type": "code",
   "execution_count": 20,
   "id": "fc18bc60",
   "metadata": {},
   "outputs": [],
   "source": [
    "df_new=pd.concat([Normalsample, Fraud], ignore_index=True)"
   ]
  },
  {
   "cell_type": "code",
   "execution_count": 21,
   "id": "2b01a905",
   "metadata": {},
   "outputs": [
    {
     "data": {
      "text/plain": [
       "1    492\n",
       "0    473\n",
       "Name: Class, dtype: int64"
      ]
     },
     "execution_count": 21,
     "metadata": {},
     "output_type": "execute_result"
    }
   ],
   "source": [
    "df_new['Class'].value_counts()"
   ]
  },
  {
   "cell_type": "code",
   "execution_count": 22,
   "id": "d995a8b8",
   "metadata": {},
   "outputs": [],
   "source": [
    "X = df_new.drop('Class',axis=1)\n",
    "y = df_new['Class']"
   ]
  },
  {
   "cell_type": "code",
   "execution_count": 23,
   "id": "3cb01839",
   "metadata": {},
   "outputs": [],
   "source": [
    "X_train,X_test,y_train,y_test = train_test_split(X,y,test_size=0.20,\n",
    "                                                 random_state=42)"
   ]
  },
  {
   "cell_type": "code",
   "execution_count": 24,
   "id": "1b6ea9e4",
   "metadata": {},
   "outputs": [
    {
     "data": {
      "text/html": [
       "<style>#sk-container-id-1 {color: black;background-color: white;}#sk-container-id-1 pre{padding: 0;}#sk-container-id-1 div.sk-toggleable {background-color: white;}#sk-container-id-1 label.sk-toggleable__label {cursor: pointer;display: block;width: 100%;margin-bottom: 0;padding: 0.3em;box-sizing: border-box;text-align: center;}#sk-container-id-1 label.sk-toggleable__label-arrow:before {content: \"▸\";float: left;margin-right: 0.25em;color: #696969;}#sk-container-id-1 label.sk-toggleable__label-arrow:hover:before {color: black;}#sk-container-id-1 div.sk-estimator:hover label.sk-toggleable__label-arrow:before {color: black;}#sk-container-id-1 div.sk-toggleable__content {max-height: 0;max-width: 0;overflow: hidden;text-align: left;background-color: #f0f8ff;}#sk-container-id-1 div.sk-toggleable__content pre {margin: 0.2em;color: black;border-radius: 0.25em;background-color: #f0f8ff;}#sk-container-id-1 input.sk-toggleable__control:checked~div.sk-toggleable__content {max-height: 200px;max-width: 100%;overflow: auto;}#sk-container-id-1 input.sk-toggleable__control:checked~label.sk-toggleable__label-arrow:before {content: \"▾\";}#sk-container-id-1 div.sk-estimator input.sk-toggleable__control:checked~label.sk-toggleable__label {background-color: #d4ebff;}#sk-container-id-1 div.sk-label input.sk-toggleable__control:checked~label.sk-toggleable__label {background-color: #d4ebff;}#sk-container-id-1 input.sk-hidden--visually {border: 0;clip: rect(1px 1px 1px 1px);clip: rect(1px, 1px, 1px, 1px);height: 1px;margin: -1px;overflow: hidden;padding: 0;position: absolute;width: 1px;}#sk-container-id-1 div.sk-estimator {font-family: monospace;background-color: #f0f8ff;border: 1px dotted black;border-radius: 0.25em;box-sizing: border-box;margin-bottom: 0.5em;}#sk-container-id-1 div.sk-estimator:hover {background-color: #d4ebff;}#sk-container-id-1 div.sk-parallel-item::after {content: \"\";width: 100%;border-bottom: 1px solid gray;flex-grow: 1;}#sk-container-id-1 div.sk-label:hover label.sk-toggleable__label {background-color: #d4ebff;}#sk-container-id-1 div.sk-serial::before {content: \"\";position: absolute;border-left: 1px solid gray;box-sizing: border-box;top: 0;bottom: 0;left: 50%;z-index: 0;}#sk-container-id-1 div.sk-serial {display: flex;flex-direction: column;align-items: center;background-color: white;padding-right: 0.2em;padding-left: 0.2em;position: relative;}#sk-container-id-1 div.sk-item {position: relative;z-index: 1;}#sk-container-id-1 div.sk-parallel {display: flex;align-items: stretch;justify-content: center;background-color: white;position: relative;}#sk-container-id-1 div.sk-item::before, #sk-container-id-1 div.sk-parallel-item::before {content: \"\";position: absolute;border-left: 1px solid gray;box-sizing: border-box;top: 0;bottom: 0;left: 50%;z-index: -1;}#sk-container-id-1 div.sk-parallel-item {display: flex;flex-direction: column;z-index: 1;position: relative;background-color: white;}#sk-container-id-1 div.sk-parallel-item:first-child::after {align-self: flex-end;width: 50%;}#sk-container-id-1 div.sk-parallel-item:last-child::after {align-self: flex-start;width: 50%;}#sk-container-id-1 div.sk-parallel-item:only-child::after {width: 0;}#sk-container-id-1 div.sk-dashed-wrapped {border: 1px dashed gray;margin: 0 0.4em 0.5em 0.4em;box-sizing: border-box;padding-bottom: 0.4em;background-color: white;}#sk-container-id-1 div.sk-label label {font-family: monospace;font-weight: bold;display: inline-block;line-height: 1.2em;}#sk-container-id-1 div.sk-label-container {text-align: center;}#sk-container-id-1 div.sk-container {/* jupyter's `normalize.less` sets `[hidden] { display: none; }` but bootstrap.min.css set `[hidden] { display: none !important; }` so we also need the `!important` here to be able to override the default hidden behavior on the sphinx rendered scikit-learn.org. See: https://github.com/scikit-learn/scikit-learn/issues/21755 */display: inline-block !important;position: relative;}#sk-container-id-1 div.sk-text-repr-fallback {display: none;}</style><div id=\"sk-container-id-1\" class=\"sk-top-container\"><div class=\"sk-text-repr-fallback\"><pre>LogisticRegression()</pre><b>In a Jupyter environment, please rerun this cell to show the HTML representation or trust the notebook. <br />On GitHub, the HTML representation is unable to render, please try loading this page with nbviewer.org.</b></div><div class=\"sk-container\" hidden><div class=\"sk-item\"><div class=\"sk-estimator sk-toggleable\"><input class=\"sk-toggleable__control sk-hidden--visually\" id=\"sk-estimator-id-1\" type=\"checkbox\" checked><label for=\"sk-estimator-id-1\" class=\"sk-toggleable__label sk-toggleable__label-arrow\">LogisticRegression</label><div class=\"sk-toggleable__content\"><pre>LogisticRegression()</pre></div></div></div></div></div>"
      ],
      "text/plain": [
       "LogisticRegression()"
      ]
     },
     "execution_count": 24,
     "metadata": {},
     "output_type": "execute_result"
    }
   ],
   "source": [
    "# Logistic Regression\n",
    "\n",
    "log = LogisticRegression()\n",
    "log.fit(X_train, y_train)"
   ]
  },
  {
   "cell_type": "code",
   "execution_count": 25,
   "id": "da780c6c",
   "metadata": {},
   "outputs": [],
   "source": [
    "y_pred1 = log.predict(X_test)"
   ]
  },
  {
   "cell_type": "code",
   "execution_count": 26,
   "id": "33894482",
   "metadata": {},
   "outputs": [
    {
     "data": {
      "text/plain": [
       "0.927461139896373"
      ]
     },
     "execution_count": 26,
     "metadata": {},
     "output_type": "execute_result"
    }
   ],
   "source": [
    "accuracy_score(y_test,y_pred1)"
   ]
  },
  {
   "cell_type": "code",
   "execution_count": 27,
   "id": "818d2cdf",
   "metadata": {},
   "outputs": [
    {
     "data": {
      "text/plain": [
       "0.968421052631579"
      ]
     },
     "execution_count": 27,
     "metadata": {},
     "output_type": "execute_result"
    }
   ],
   "source": [
    "precision_score(y_test,y_pred1)"
   ]
  },
  {
   "cell_type": "code",
   "execution_count": 28,
   "id": "b0cf8bce",
   "metadata": {},
   "outputs": [
    {
     "data": {
      "text/plain": [
       "0.8932038834951457"
      ]
     },
     "execution_count": 28,
     "metadata": {},
     "output_type": "execute_result"
    }
   ],
   "source": [
    "recall_score(y_test,y_pred1)"
   ]
  },
  {
   "cell_type": "code",
   "execution_count": 29,
   "id": "0ae9a645",
   "metadata": {},
   "outputs": [
    {
     "data": {
      "text/plain": [
       "0.9292929292929294"
      ]
     },
     "execution_count": 29,
     "metadata": {},
     "output_type": "execute_result"
    }
   ],
   "source": [
    "f1_score(y_test,y_pred1)"
   ]
  },
  {
   "cell_type": "code",
   "execution_count": 31,
   "id": "3630e8f9",
   "metadata": {},
   "outputs": [
    {
     "data": {
      "text/html": [
       "<style>#sk-container-id-3 {color: black;background-color: white;}#sk-container-id-3 pre{padding: 0;}#sk-container-id-3 div.sk-toggleable {background-color: white;}#sk-container-id-3 label.sk-toggleable__label {cursor: pointer;display: block;width: 100%;margin-bottom: 0;padding: 0.3em;box-sizing: border-box;text-align: center;}#sk-container-id-3 label.sk-toggleable__label-arrow:before {content: \"▸\";float: left;margin-right: 0.25em;color: #696969;}#sk-container-id-3 label.sk-toggleable__label-arrow:hover:before {color: black;}#sk-container-id-3 div.sk-estimator:hover label.sk-toggleable__label-arrow:before {color: black;}#sk-container-id-3 div.sk-toggleable__content {max-height: 0;max-width: 0;overflow: hidden;text-align: left;background-color: #f0f8ff;}#sk-container-id-3 div.sk-toggleable__content pre {margin: 0.2em;color: black;border-radius: 0.25em;background-color: #f0f8ff;}#sk-container-id-3 input.sk-toggleable__control:checked~div.sk-toggleable__content {max-height: 200px;max-width: 100%;overflow: auto;}#sk-container-id-3 input.sk-toggleable__control:checked~label.sk-toggleable__label-arrow:before {content: \"▾\";}#sk-container-id-3 div.sk-estimator input.sk-toggleable__control:checked~label.sk-toggleable__label {background-color: #d4ebff;}#sk-container-id-3 div.sk-label input.sk-toggleable__control:checked~label.sk-toggleable__label {background-color: #d4ebff;}#sk-container-id-3 input.sk-hidden--visually {border: 0;clip: rect(1px 1px 1px 1px);clip: rect(1px, 1px, 1px, 1px);height: 1px;margin: -1px;overflow: hidden;padding: 0;position: absolute;width: 1px;}#sk-container-id-3 div.sk-estimator {font-family: monospace;background-color: #f0f8ff;border: 1px dotted black;border-radius: 0.25em;box-sizing: border-box;margin-bottom: 0.5em;}#sk-container-id-3 div.sk-estimator:hover {background-color: #d4ebff;}#sk-container-id-3 div.sk-parallel-item::after {content: \"\";width: 100%;border-bottom: 1px solid gray;flex-grow: 1;}#sk-container-id-3 div.sk-label:hover label.sk-toggleable__label {background-color: #d4ebff;}#sk-container-id-3 div.sk-serial::before {content: \"\";position: absolute;border-left: 1px solid gray;box-sizing: border-box;top: 0;bottom: 0;left: 50%;z-index: 0;}#sk-container-id-3 div.sk-serial {display: flex;flex-direction: column;align-items: center;background-color: white;padding-right: 0.2em;padding-left: 0.2em;position: relative;}#sk-container-id-3 div.sk-item {position: relative;z-index: 1;}#sk-container-id-3 div.sk-parallel {display: flex;align-items: stretch;justify-content: center;background-color: white;position: relative;}#sk-container-id-3 div.sk-item::before, #sk-container-id-3 div.sk-parallel-item::before {content: \"\";position: absolute;border-left: 1px solid gray;box-sizing: border-box;top: 0;bottom: 0;left: 50%;z-index: -1;}#sk-container-id-3 div.sk-parallel-item {display: flex;flex-direction: column;z-index: 1;position: relative;background-color: white;}#sk-container-id-3 div.sk-parallel-item:first-child::after {align-self: flex-end;width: 50%;}#sk-container-id-3 div.sk-parallel-item:last-child::after {align-self: flex-start;width: 50%;}#sk-container-id-3 div.sk-parallel-item:only-child::after {width: 0;}#sk-container-id-3 div.sk-dashed-wrapped {border: 1px dashed gray;margin: 0 0.4em 0.5em 0.4em;box-sizing: border-box;padding-bottom: 0.4em;background-color: white;}#sk-container-id-3 div.sk-label label {font-family: monospace;font-weight: bold;display: inline-block;line-height: 1.2em;}#sk-container-id-3 div.sk-label-container {text-align: center;}#sk-container-id-3 div.sk-container {/* jupyter's `normalize.less` sets `[hidden] { display: none; }` but bootstrap.min.css set `[hidden] { display: none !important; }` so we also need the `!important` here to be able to override the default hidden behavior on the sphinx rendered scikit-learn.org. See: https://github.com/scikit-learn/scikit-learn/issues/21755 */display: inline-block !important;position: relative;}#sk-container-id-3 div.sk-text-repr-fallback {display: none;}</style><div id=\"sk-container-id-3\" class=\"sk-top-container\"><div class=\"sk-text-repr-fallback\"><pre>DecisionTreeClassifier()</pre><b>In a Jupyter environment, please rerun this cell to show the HTML representation or trust the notebook. <br />On GitHub, the HTML representation is unable to render, please try loading this page with nbviewer.org.</b></div><div class=\"sk-container\" hidden><div class=\"sk-item\"><div class=\"sk-estimator sk-toggleable\"><input class=\"sk-toggleable__control sk-hidden--visually\" id=\"sk-estimator-id-3\" type=\"checkbox\" checked><label for=\"sk-estimator-id-3\" class=\"sk-toggleable__label sk-toggleable__label-arrow\">DecisionTreeClassifier</label><div class=\"sk-toggleable__content\"><pre>DecisionTreeClassifier()</pre></div></div></div></div></div>"
      ],
      "text/plain": [
       "DecisionTreeClassifier()"
      ]
     },
     "execution_count": 31,
     "metadata": {},
     "output_type": "execute_result"
    }
   ],
   "source": [
    "# Decision Tree Classifier\n",
    "dt = DecisionTreeClassifier()\n",
    "dt.fit(X_train,y_train)"
   ]
  },
  {
   "cell_type": "code",
   "execution_count": 32,
   "id": "1ccb13a2",
   "metadata": {},
   "outputs": [],
   "source": [
    "y_pred2 = dt.predict(X_test)"
   ]
  },
  {
   "cell_type": "code",
   "execution_count": 33,
   "id": "a774a1f0",
   "metadata": {},
   "outputs": [
    {
     "data": {
      "text/plain": [
       "0.8860103626943006"
      ]
     },
     "execution_count": 33,
     "metadata": {},
     "output_type": "execute_result"
    }
   ],
   "source": [
    "accuracy_score(y_test,y_pred2)"
   ]
  },
  {
   "cell_type": "code",
   "execution_count": 34,
   "id": "f57f8387",
   "metadata": {},
   "outputs": [
    {
     "data": {
      "text/plain": [
       "0.900990099009901"
      ]
     },
     "execution_count": 34,
     "metadata": {},
     "output_type": "execute_result"
    }
   ],
   "source": [
    "precision_score(y_test,y_pred2)"
   ]
  },
  {
   "cell_type": "code",
   "execution_count": 35,
   "id": "53aecddf",
   "metadata": {},
   "outputs": [
    {
     "data": {
      "text/plain": [
       "0.883495145631068"
      ]
     },
     "execution_count": 35,
     "metadata": {},
     "output_type": "execute_result"
    }
   ],
   "source": [
    "recall_score(y_test,y_pred2)"
   ]
  },
  {
   "cell_type": "code",
   "execution_count": 36,
   "id": "1c7e631a",
   "metadata": {},
   "outputs": [
    {
     "data": {
      "text/plain": [
       "0.8921568627450982"
      ]
     },
     "execution_count": 36,
     "metadata": {},
     "output_type": "execute_result"
    }
   ],
   "source": [
    "f1_score(y_test,y_pred2)"
   ]
  },
  {
   "cell_type": "code",
   "execution_count": 37,
   "id": "ae5fbc7d",
   "metadata": {},
   "outputs": [
    {
     "data": {
      "text/html": [
       "<style>#sk-container-id-4 {color: black;background-color: white;}#sk-container-id-4 pre{padding: 0;}#sk-container-id-4 div.sk-toggleable {background-color: white;}#sk-container-id-4 label.sk-toggleable__label {cursor: pointer;display: block;width: 100%;margin-bottom: 0;padding: 0.3em;box-sizing: border-box;text-align: center;}#sk-container-id-4 label.sk-toggleable__label-arrow:before {content: \"▸\";float: left;margin-right: 0.25em;color: #696969;}#sk-container-id-4 label.sk-toggleable__label-arrow:hover:before {color: black;}#sk-container-id-4 div.sk-estimator:hover label.sk-toggleable__label-arrow:before {color: black;}#sk-container-id-4 div.sk-toggleable__content {max-height: 0;max-width: 0;overflow: hidden;text-align: left;background-color: #f0f8ff;}#sk-container-id-4 div.sk-toggleable__content pre {margin: 0.2em;color: black;border-radius: 0.25em;background-color: #f0f8ff;}#sk-container-id-4 input.sk-toggleable__control:checked~div.sk-toggleable__content {max-height: 200px;max-width: 100%;overflow: auto;}#sk-container-id-4 input.sk-toggleable__control:checked~label.sk-toggleable__label-arrow:before {content: \"▾\";}#sk-container-id-4 div.sk-estimator input.sk-toggleable__control:checked~label.sk-toggleable__label {background-color: #d4ebff;}#sk-container-id-4 div.sk-label input.sk-toggleable__control:checked~label.sk-toggleable__label {background-color: #d4ebff;}#sk-container-id-4 input.sk-hidden--visually {border: 0;clip: rect(1px 1px 1px 1px);clip: rect(1px, 1px, 1px, 1px);height: 1px;margin: -1px;overflow: hidden;padding: 0;position: absolute;width: 1px;}#sk-container-id-4 div.sk-estimator {font-family: monospace;background-color: #f0f8ff;border: 1px dotted black;border-radius: 0.25em;box-sizing: border-box;margin-bottom: 0.5em;}#sk-container-id-4 div.sk-estimator:hover {background-color: #d4ebff;}#sk-container-id-4 div.sk-parallel-item::after {content: \"\";width: 100%;border-bottom: 1px solid gray;flex-grow: 1;}#sk-container-id-4 div.sk-label:hover label.sk-toggleable__label {background-color: #d4ebff;}#sk-container-id-4 div.sk-serial::before {content: \"\";position: absolute;border-left: 1px solid gray;box-sizing: border-box;top: 0;bottom: 0;left: 50%;z-index: 0;}#sk-container-id-4 div.sk-serial {display: flex;flex-direction: column;align-items: center;background-color: white;padding-right: 0.2em;padding-left: 0.2em;position: relative;}#sk-container-id-4 div.sk-item {position: relative;z-index: 1;}#sk-container-id-4 div.sk-parallel {display: flex;align-items: stretch;justify-content: center;background-color: white;position: relative;}#sk-container-id-4 div.sk-item::before, #sk-container-id-4 div.sk-parallel-item::before {content: \"\";position: absolute;border-left: 1px solid gray;box-sizing: border-box;top: 0;bottom: 0;left: 50%;z-index: -1;}#sk-container-id-4 div.sk-parallel-item {display: flex;flex-direction: column;z-index: 1;position: relative;background-color: white;}#sk-container-id-4 div.sk-parallel-item:first-child::after {align-self: flex-end;width: 50%;}#sk-container-id-4 div.sk-parallel-item:last-child::after {align-self: flex-start;width: 50%;}#sk-container-id-4 div.sk-parallel-item:only-child::after {width: 0;}#sk-container-id-4 div.sk-dashed-wrapped {border: 1px dashed gray;margin: 0 0.4em 0.5em 0.4em;box-sizing: border-box;padding-bottom: 0.4em;background-color: white;}#sk-container-id-4 div.sk-label label {font-family: monospace;font-weight: bold;display: inline-block;line-height: 1.2em;}#sk-container-id-4 div.sk-label-container {text-align: center;}#sk-container-id-4 div.sk-container {/* jupyter's `normalize.less` sets `[hidden] { display: none; }` but bootstrap.min.css set `[hidden] { display: none !important; }` so we also need the `!important` here to be able to override the default hidden behavior on the sphinx rendered scikit-learn.org. See: https://github.com/scikit-learn/scikit-learn/issues/21755 */display: inline-block !important;position: relative;}#sk-container-id-4 div.sk-text-repr-fallback {display: none;}</style><div id=\"sk-container-id-4\" class=\"sk-top-container\"><div class=\"sk-text-repr-fallback\"><pre>RandomForestClassifier()</pre><b>In a Jupyter environment, please rerun this cell to show the HTML representation or trust the notebook. <br />On GitHub, the HTML representation is unable to render, please try loading this page with nbviewer.org.</b></div><div class=\"sk-container\" hidden><div class=\"sk-item\"><div class=\"sk-estimator sk-toggleable\"><input class=\"sk-toggleable__control sk-hidden--visually\" id=\"sk-estimator-id-4\" type=\"checkbox\" checked><label for=\"sk-estimator-id-4\" class=\"sk-toggleable__label sk-toggleable__label-arrow\">RandomForestClassifier</label><div class=\"sk-toggleable__content\"><pre>RandomForestClassifier()</pre></div></div></div></div></div>"
      ],
      "text/plain": [
       "RandomForestClassifier()"
      ]
     },
     "execution_count": 37,
     "metadata": {},
     "output_type": "execute_result"
    }
   ],
   "source": [
    "# Random Forest Classifier\n",
    "rf = RandomForestClassifier()\n",
    "rf.fit(X_train,y_train)"
   ]
  },
  {
   "cell_type": "code",
   "execution_count": 38,
   "id": "0baf0c65",
   "metadata": {},
   "outputs": [],
   "source": [
    "y_pred3 = rf.predict(X_test)"
   ]
  },
  {
   "cell_type": "code",
   "execution_count": 39,
   "id": "32c6228d",
   "metadata": {},
   "outputs": [
    {
     "data": {
      "text/plain": [
       "0.9119170984455959"
      ]
     },
     "execution_count": 39,
     "metadata": {},
     "output_type": "execute_result"
    }
   ],
   "source": [
    "accuracy_score(y_test,y_pred3)"
   ]
  },
  {
   "cell_type": "code",
   "execution_count": 40,
   "id": "d5b65254",
   "metadata": {},
   "outputs": [
    {
     "data": {
      "text/plain": [
       "0.967391304347826"
      ]
     },
     "execution_count": 40,
     "metadata": {},
     "output_type": "execute_result"
    }
   ],
   "source": [
    "precision_score(y_test,y_pred3)"
   ]
  },
  {
   "cell_type": "code",
   "execution_count": 41,
   "id": "f788f702",
   "metadata": {},
   "outputs": [
    {
     "data": {
      "text/plain": [
       "0.8640776699029126"
      ]
     },
     "execution_count": 41,
     "metadata": {},
     "output_type": "execute_result"
    }
   ],
   "source": [
    "recall_score(y_test,y_pred3)"
   ]
  },
  {
   "cell_type": "code",
   "execution_count": 42,
   "id": "e25ce75a",
   "metadata": {},
   "outputs": [
    {
     "data": {
      "text/plain": [
       "0.9128205128205128"
      ]
     },
     "execution_count": 42,
     "metadata": {},
     "output_type": "execute_result"
    }
   ],
   "source": [
    "f1_score(y_test,y_pred3)"
   ]
  },
  {
   "cell_type": "code",
   "execution_count": 43,
   "id": "c27ff689",
   "metadata": {},
   "outputs": [],
   "source": [
    "df_new1 = pd.DataFrame({'Models':['LR','DT','RF'],\n",
    "              \"ACC\":[accuracy_score(y_test,y_pred1)*100,\n",
    "                     accuracy_score(y_test,y_pred2)*100,\n",
    "                     accuracy_score(y_test,y_pred3)*100\n",
    "                    ]})"
   ]
  },
  {
   "cell_type": "code",
   "execution_count": 44,
   "id": "bb645f63",
   "metadata": {},
   "outputs": [
    {
     "data": {
      "text/html": [
       "<div>\n",
       "<style scoped>\n",
       "    .dataframe tbody tr th:only-of-type {\n",
       "        vertical-align: middle;\n",
       "    }\n",
       "\n",
       "    .dataframe tbody tr th {\n",
       "        vertical-align: top;\n",
       "    }\n",
       "\n",
       "    .dataframe thead th {\n",
       "        text-align: right;\n",
       "    }\n",
       "</style>\n",
       "<table border=\"1\" class=\"dataframe\">\n",
       "  <thead>\n",
       "    <tr style=\"text-align: right;\">\n",
       "      <th></th>\n",
       "      <th>Models</th>\n",
       "      <th>ACC</th>\n",
       "    </tr>\n",
       "  </thead>\n",
       "  <tbody>\n",
       "    <tr>\n",
       "      <th>0</th>\n",
       "      <td>LR</td>\n",
       "      <td>92.746114</td>\n",
       "    </tr>\n",
       "    <tr>\n",
       "      <th>1</th>\n",
       "      <td>DT</td>\n",
       "      <td>88.601036</td>\n",
       "    </tr>\n",
       "    <tr>\n",
       "      <th>2</th>\n",
       "      <td>RF</td>\n",
       "      <td>91.191710</td>\n",
       "    </tr>\n",
       "  </tbody>\n",
       "</table>\n",
       "</div>"
      ],
      "text/plain": [
       "  Models        ACC\n",
       "0     LR  92.746114\n",
       "1     DT  88.601036\n",
       "2     RF  91.191710"
      ]
     },
     "execution_count": 44,
     "metadata": {},
     "output_type": "execute_result"
    }
   ],
   "source": [
    "df_new1"
   ]
  },
  {
   "cell_type": "code",
   "execution_count": 45,
   "id": "0dc46bc1",
   "metadata": {},
   "outputs": [
    {
     "data": {
      "text/plain": [
       "<AxesSubplot: xlabel='Models', ylabel='ACC'>"
      ]
     },
     "execution_count": 45,
     "metadata": {},
     "output_type": "execute_result"
    },
    {
     "data": {
      "image/png": "[encoded data removed]",
      "text/plain": [
       "<Figure size 432x288 with 1 Axes>"
      ]
     },
     "metadata": {
      "needs_background": "light"
     },
     "output_type": "display_data"
    }
   ],
   "source": [
    "#plot barplots\n",
    "sns.barplot(df_new1['Models'],df_new1['ACC'])"
   ]
  },
  {
   "cell_type": "markdown",
   "id": "beb4220e",
   "metadata": {},
   "source": [
    "# Oversampling"
   ]
  },
  {
   "cell_type": "code",
   "execution_count": 46,
   "id": "f899c8ab",
   "metadata": {},
   "outputs": [
    {
     "data": {
      "text/plain": [
       "(284806, 31)"
      ]
     },
     "execution_count": 46,
     "metadata": {},
     "output_type": "execute_result"
    }
   ],
   "source": [
    "df.shape"
   ]
  },
  {
   "cell_type": "code",
   "execution_count": 47,
   "id": "a7238c8f",
   "metadata": {},
   "outputs": [],
   "source": [
    "X = df.drop('Class',axis=1)\n",
    "y = df['Class']"
   ]
  },
  {
   "cell_type": "code",
   "execution_count": 48,
   "id": "6eb21704",
   "metadata": {},
   "outputs": [],
   "source": [
    "X_res,y_res = SMOTE().fit_resample(X,y)"
   ]
  },
  {
   "cell_type": "code",
   "execution_count": null,
   "id": "220d1cc0",
   "metadata": {},
   "outputs": [],
   "source": [
    "y_res.value_counts()"
   ]
  },
  {
   "cell_type": "code",
   "execution_count": 50,
   "id": "5ad4f86e",
   "metadata": {},
   "outputs": [],
   "source": [
    "X_train,X_test,y_train,y_test = train_test_split(X_res,y_res,test_size=0.20,\n",
    "                                                 random_state=42)"
   ]
  },
  {
   "cell_type": "markdown",
   "id": "c483aa67",
   "metadata": {},
   "source": [
    "# Classification report, confusion matrix and accuracy report"
   ]
  },
  {
   "cell_type": "code",
   "execution_count": 83,
   "id": "aa4f0126",
   "metadata": {},
   "outputs": [],
   "source": [
    "from sklearn.metrics import accuracy_score, confusion_matrix, classification_report\n",
    "\n",
    "def print_score(clf, X_train, y_train, X_test, y, train=True):\n",
    "    if train:\n",
    "        pred = clf.predict(X_train)\n",
    "        clf_report = pd.DataFrame(classification_report(y_train, pred, output_dict=True))\n",
    "        print(\"Train Result:\\n================================================\")\n",
    "        print(f\"Accuracy Score: {accuracy_score(y_train, pred) * 100:.2f}%\")\n",
    "        print(\"_______________________________________________\")\n",
    "        print(f\"CLASSIFICATION REPORT:\\n{clf_report}\")\n",
    "        print(\"_______________________________________________\")\n",
    "        print(f\"Confusion Matrix: \\n {confusion_matrix(y_train, pred)}\\n\")\n",
    "        \n",
    "    elif train==False:\n",
    "        pred = clf.predict(X_test)\n",
    "        clf_report = pd.DataFrame(classification_report(y_test, pred, output_dict=True))\n",
    "        print(\"Test Result:\\n================================================\")        \n",
    "        print(f\"Accuracy Score: {accuracy_score(y_test, pred) * 100:.2f}%\")\n",
    "        print(\"_______________________________________________\")\n",
    "        print(f\"CLASSIFICATION REPORT:\\n{clf_report}\")\n",
    "        print(\"_______________________________________________\")\n",
    "        print(f\"Confusion Matrix: \\n {confusion_matrix(y_test, pred)}\\n\")"
   ]
  },
  {
   "cell_type": "markdown",
   "id": "b79ce106",
   "metadata": {},
   "source": [
    "### Logistic Regression Classifier"
   ]
  },
  {
   "cell_type": "code",
   "execution_count": 85,
   "id": "ce1516a6",
   "metadata": {},
   "outputs": [
    {
     "data": {
      "text/html": [
       "<div>\n",
       "<style scoped>\n",
       "    .dataframe tbody tr th:only-of-type {\n",
       "        vertical-align: middle;\n",
       "    }\n",
       "\n",
       "    .dataframe tbody tr th {\n",
       "        vertical-align: top;\n",
       "    }\n",
       "\n",
       "    .dataframe thead th {\n",
       "        text-align: right;\n",
       "    }\n",
       "</style>\n",
       "<table border=\"1\" class=\"dataframe\">\n",
       "  <thead>\n",
       "    <tr style=\"text-align: right;\">\n",
       "      <th></th>\n",
       "      <th>Model</th>\n",
       "      <th>Training Accuracy %</th>\n",
       "      <th>Testing Accuracy %</th>\n",
       "    </tr>\n",
       "  </thead>\n",
       "  <tbody>\n",
       "    <tr>\n",
       "      <th>0</th>\n",
       "      <td>Logistic Regression</td>\n",
       "      <td>96.688957</td>\n",
       "      <td>96.639291</td>\n",
       "    </tr>\n",
       "  </tbody>\n",
       "</table>\n",
       "</div>"
      ],
      "text/plain": [
       "                 Model  Training Accuracy %  Testing Accuracy %\n",
       "0  Logistic Regression            96.688957           96.639291"
      ]
     },
     "execution_count": 85,
     "metadata": {},
     "output_type": "execute_result"
    }
   ],
   "source": [
    "test_score = accuracy_score(y_test, log_clf.predict(X_test)) * 100\n",
    "train_score = accuracy_score(y_train, log_clf.predict(X_train)) * 100\n",
    "\n",
    "results_df = pd.DataFrame(data=[[\"Logistic Regression\", train_score, test_score]], \n",
    "                          columns=['Model', 'Training Accuracy %', 'Testing Accuracy %'])\n",
    "results_df"
   ]
  },
  {
   "cell_type": "code",
   "execution_count": null,
   "id": "ae89d69e",
   "metadata": {},
   "outputs": [],
   "source": []
  },
  {
   "cell_type": "markdown",
   "id": "db2422b4",
   "metadata": {},
   "source": [
    "### Decision Tree Classifier"
   ]
  },
  {
   "cell_type": "code",
   "execution_count": 86,
   "id": "1f8e6a88",
   "metadata": {},
   "outputs": [
    {
     "name": "stdout",
     "output_type": "stream",
     "text": [
      "Train Result:\n",
      "================================================\n",
      "Accuracy Score: 100.00%\n",
      "_______________________________________________\n",
      "CLASSIFICATION REPORT:\n",
      "                  0         1  accuracy  macro avg  weighted avg\n",
      "precision       1.0       1.0       1.0        1.0           1.0\n",
      "recall          1.0       1.0       1.0        1.0           1.0\n",
      "f1-score        1.0       1.0       1.0        1.0           1.0\n",
      "support    227520.0  227382.0       1.0   454902.0      454902.0\n",
      "_______________________________________________\n",
      "Confusion Matrix: \n",
      " [[227520      0]\n",
      " [     0 227382]]\n",
      "\n",
      "Test Result:\n",
      "================================================\n",
      "Accuracy Score: 99.86%\n",
      "_______________________________________________\n",
      "CLASSIFICATION REPORT:\n",
      "                      0             1  accuracy      macro avg   weighted avg\n",
      "precision      0.999348      0.997878  0.998611       0.998613       0.998612\n",
      "recall         0.997869      0.999350  0.998611       0.998610       0.998611\n",
      "f1-score       0.998608      0.998613  0.998611       0.998611       0.998611\n",
      "support    56794.000000  56932.000000  0.998611  113726.000000  113726.000000\n",
      "_______________________________________________\n",
      "Confusion Matrix: \n",
      " [[56673   121]\n",
      " [   37 56895]]\n",
      "\n"
     ]
    }
   ],
   "source": [
    "Dt_clf = DecisionTreeClassifier(random_state=42)\n",
    "Dt_clf.fit(X_train, y_train)\n",
    "\n",
    "print_score(Dt_clf, X_train, y_train, X_test, y_test, train=True)\n",
    "print_score(Dt_clf, X_train, y_train, X_test, y_test, train=False)"
   ]
  },
  {
   "cell_type": "code",
   "execution_count": 87,
   "id": "b2967b19",
   "metadata": {},
   "outputs": [
    {
     "data": {
      "text/html": [
       "<div>\n",
       "<style scoped>\n",
       "    .dataframe tbody tr th:only-of-type {\n",
       "        vertical-align: middle;\n",
       "    }\n",
       "\n",
       "    .dataframe tbody tr th {\n",
       "        vertical-align: top;\n",
       "    }\n",
       "\n",
       "    .dataframe thead th {\n",
       "        text-align: right;\n",
       "    }\n",
       "</style>\n",
       "<table border=\"1\" class=\"dataframe\">\n",
       "  <thead>\n",
       "    <tr style=\"text-align: right;\">\n",
       "      <th></th>\n",
       "      <th>Model</th>\n",
       "      <th>Training Accuracy %</th>\n",
       "      <th>Testing Accuracy %</th>\n",
       "    </tr>\n",
       "  </thead>\n",
       "  <tbody>\n",
       "    <tr>\n",
       "      <th>0</th>\n",
       "      <td>Logistic Regression</td>\n",
       "      <td>96.688957</td>\n",
       "      <td>96.639291</td>\n",
       "    </tr>\n",
       "    <tr>\n",
       "      <th>1</th>\n",
       "      <td>Decision Tree Classifier</td>\n",
       "      <td>100.000000</td>\n",
       "      <td>99.861070</td>\n",
       "    </tr>\n",
       "  </tbody>\n",
       "</table>\n",
       "</div>"
      ],
      "text/plain": [
       "                      Model  Training Accuracy %  Testing Accuracy %\n",
       "0       Logistic Regression            96.688957           96.639291\n",
       "1  Decision Tree Classifier           100.000000           99.861070"
      ]
     },
     "execution_count": 87,
     "metadata": {},
     "output_type": "execute_result"
    }
   ],
   "source": [
    "test_score = accuracy_score(y_test, Dt_clf.predict(X_test)) * 100\n",
    "train_score = accuracy_score(y_train, Dt_clf.predict(X_train)) * 100\n",
    "\n",
    "results_df_2 = pd.DataFrame(data=[[\"Decision Tree Classifier\", train_score, test_score]], \n",
    "                          columns=['Model', 'Training Accuracy %', 'Testing Accuracy %'])\n",
    "results_df = results_df.append(results_df_2, ignore_index=True)\n",
    "results_df"
   ]
  },
  {
   "cell_type": "code",
   "execution_count": null,
   "id": "67e51425",
   "metadata": {},
   "outputs": [],
   "source": []
  },
  {
   "cell_type": "markdown",
   "id": "050de9d6",
   "metadata": {},
   "source": [
    "### Random Forest Classifier"
   ]
  },
  {
   "cell_type": "code",
   "execution_count": 88,
   "id": "0a666755",
   "metadata": {},
   "outputs": [
    {
     "name": "stdout",
     "output_type": "stream",
     "text": [
      "Train Result:\n",
      "================================================\n",
      "Accuracy Score: 100.00%\n",
      "_______________________________________________\n",
      "CLASSIFICATION REPORT:\n",
      "                       0              1  accuracy      macro avg  \\\n",
      "precision       1.000000       0.999982  0.999991       0.999991   \n",
      "recall          0.999982       1.000000  0.999991       0.999991   \n",
      "f1-score        0.999991       0.999991  0.999991       0.999991   \n",
      "support    227520.000000  227382.000000  0.999991  454902.000000   \n",
      "\n",
      "            weighted avg  \n",
      "precision       0.999991  \n",
      "recall          0.999991  \n",
      "f1-score        0.999991  \n",
      "support    454902.000000  \n",
      "_______________________________________________\n",
      "Confusion Matrix: \n",
      " [[227516      4]\n",
      " [     0 227382]]\n",
      "\n",
      "Test Result:\n",
      "================================================\n",
      "Accuracy Score: 99.99%\n",
      "_______________________________________________\n",
      "CLASSIFICATION REPORT:\n",
      "                      0             1  accuracy      macro avg   weighted avg\n",
      "precision      1.000000      0.999807  0.999903       0.999903       0.999903\n",
      "recall         0.999806      1.000000  0.999903       0.999903       0.999903\n",
      "f1-score       0.999903      0.999903  0.999903       0.999903       0.999903\n",
      "support    56794.000000  56932.000000  0.999903  113726.000000  113726.000000\n",
      "_______________________________________________\n",
      "Confusion Matrix: \n",
      " [[56783    11]\n",
      " [    0 56932]]\n",
      "\n"
     ]
    }
   ],
   "source": [
    "Rf_clf = RandomForestClassifier(n_estimators=10, random_state=42)\n",
    "Rf_clf.fit(X_train, y_train)\n",
    "\n",
    "print_score(Rf_clf, X_train, y_train, X_test, y_test, train=True)\n",
    "print_score(Rf_clf, X_train, y_train, X_test, y_test, train=False)"
   ]
  },
  {
   "cell_type": "code",
   "execution_count": 89,
   "id": "d32d93b1",
   "metadata": {},
   "outputs": [
    {
     "data": {
      "text/html": [
       "<div>\n",
       "<style scoped>\n",
       "    .dataframe tbody tr th:only-of-type {\n",
       "        vertical-align: middle;\n",
       "    }\n",
       "\n",
       "    .dataframe tbody tr th {\n",
       "        vertical-align: top;\n",
       "    }\n",
       "\n",
       "    .dataframe thead th {\n",
       "        text-align: right;\n",
       "    }\n",
       "</style>\n",
       "<table border=\"1\" class=\"dataframe\">\n",
       "  <thead>\n",
       "    <tr style=\"text-align: right;\">\n",
       "      <th></th>\n",
       "      <th>Model</th>\n",
       "      <th>Training Accuracy %</th>\n",
       "      <th>Testing Accuracy %</th>\n",
       "    </tr>\n",
       "  </thead>\n",
       "  <tbody>\n",
       "    <tr>\n",
       "      <th>0</th>\n",
       "      <td>Logistic Regression</td>\n",
       "      <td>96.688957</td>\n",
       "      <td>96.639291</td>\n",
       "    </tr>\n",
       "    <tr>\n",
       "      <th>1</th>\n",
       "      <td>Decision Tree Classifier</td>\n",
       "      <td>100.000000</td>\n",
       "      <td>99.861070</td>\n",
       "    </tr>\n",
       "    <tr>\n",
       "      <th>2</th>\n",
       "      <td>Random Forest Classifier</td>\n",
       "      <td>99.999121</td>\n",
       "      <td>99.990328</td>\n",
       "    </tr>\n",
       "  </tbody>\n",
       "</table>\n",
       "</div>"
      ],
      "text/plain": [
       "                      Model  Training Accuracy %  Testing Accuracy %\n",
       "0       Logistic Regression            96.688957           96.639291\n",
       "1  Decision Tree Classifier           100.000000           99.861070\n",
       "2  Random Forest Classifier            99.999121           99.990328"
      ]
     },
     "execution_count": 89,
     "metadata": {},
     "output_type": "execute_result"
    }
   ],
   "source": [
    "test_score = accuracy_score(y_test, Rf_clf.predict(X_test)) * 100\n",
    "train_score = accuracy_score(y_train, Rf_clf.predict(X_train)) * 100\n",
    "\n",
    "results_df_2 = pd.DataFrame(data=[[\"Random Forest Classifier\", train_score, test_score]], \n",
    "                          columns=['Model', 'Training Accuracy %', 'Testing Accuracy %'])\n",
    "results_df = results_df.append(results_df_2, ignore_index=True)\n",
    "results_df\n"
   ]
  },
  {
   "cell_type": "code",
   "execution_count": null,
   "id": "4b0b0622",
   "metadata": {},
   "outputs": [],
   "source": []
  },
  {
   "cell_type": "code",
   "execution_count": 90,
   "id": "b3d8388b",
   "metadata": {},
   "outputs": [
    {
     "data": {
      "image/png": "[encoded data removed]",
      "text/plain": [
       "<Figure size 720x432 with 1 Axes>"
      ]
     },
     "metadata": {
      "needs_background": "light"
     },
     "output_type": "display_data"
    }
   ],
   "source": [
    "# Create a list of models, training accuracy, and testing accuracy\n",
    "models = ['Logistic Regression', 'Decision Tree Classifier', 'Random Forest Classifier']\n",
    "train_acc = [96.688957, 100.000000, 99.999121]\n",
    "test_acc = [96.639291, 99.861070, 99.990328]\n",
    "\n",
    "# Set the size of the chart\n",
    "plt.figure(figsize=(10, 6))\n",
    "\n",
    "# Plot the bar chart for training accuracy\n",
    "plt.bar(models, train_acc, color='green')\n",
    "plt.ylabel('Training Accuracy (%)')\n",
    "\n",
    "# Plot the line chart for testing accuracy\n",
    "plt.plot(models, test_acc, color='red', marker='o')\n",
    "plt.ylabel('Testing Accuracy (%)')\n",
    "\n",
    "# Add legend and title\n",
    "plt.legend(['Testing Accuracy'], loc='lower right')\n",
    "plt.title('Model Accuracy')\n",
    "\n",
    "# Display the chart\n",
    "plt.show()\n"
   ]
  },
  {
   "cell_type": "code",
   "execution_count": null,
   "id": "cb9bee1c",
   "metadata": {},
   "outputs": [],
   "source": []
  },
  {
   "cell_type": "code",
   "execution_count": 51,
   "id": "eea72a79",
   "metadata": {},
   "outputs": [
    {
     "data": {
      "text/html": [
       "<style>#sk-container-id-5 {color: black;background-color: white;}#sk-container-id-5 pre{padding: 0;}#sk-container-id-5 div.sk-toggleable {background-color: white;}#sk-container-id-5 label.sk-toggleable__label {cursor: pointer;display: block;width: 100%;margin-bottom: 0;padding: 0.3em;box-sizing: border-box;text-align: center;}#sk-container-id-5 label.sk-toggleable__label-arrow:before {content: \"▸\";float: left;margin-right: 0.25em;color: #696969;}#sk-container-id-5 label.sk-toggleable__label-arrow:hover:before {color: black;}#sk-container-id-5 div.sk-estimator:hover label.sk-toggleable__label-arrow:before {color: black;}#sk-container-id-5 div.sk-toggleable__content {max-height: 0;max-width: 0;overflow: hidden;text-align: left;background-color: #f0f8ff;}#sk-container-id-5 div.sk-toggleable__content pre {margin: 0.2em;color: black;border-radius: 0.25em;background-color: #f0f8ff;}#sk-container-id-5 input.sk-toggleable__control:checked~div.sk-toggleable__content {max-height: 200px;max-width: 100%;overflow: auto;}#sk-container-id-5 input.sk-toggleable__control:checked~label.sk-toggleable__label-arrow:before {content: \"▾\";}#sk-container-id-5 div.sk-estimator input.sk-toggleable__control:checked~label.sk-toggleable__label {background-color: #d4ebff;}#sk-container-id-5 div.sk-label input.sk-toggleable__control:checked~label.sk-toggleable__label {background-color: #d4ebff;}#sk-container-id-5 input.sk-hidden--visually {border: 0;clip: rect(1px 1px 1px 1px);clip: rect(1px, 1px, 1px, 1px);height: 1px;margin: -1px;overflow: hidden;padding: 0;position: absolute;width: 1px;}#sk-container-id-5 div.sk-estimator {font-family: monospace;background-color: #f0f8ff;border: 1px dotted black;border-radius: 0.25em;box-sizing: border-box;margin-bottom: 0.5em;}#sk-container-id-5 div.sk-estimator:hover {background-color: #d4ebff;}#sk-container-id-5 div.sk-parallel-item::after {content: \"\";width: 100%;border-bottom: 1px solid gray;flex-grow: 1;}#sk-container-id-5 div.sk-label:hover label.sk-toggleable__label {background-color: #d4ebff;}#sk-container-id-5 div.sk-serial::before {content: \"\";position: absolute;border-left: 1px solid gray;box-sizing: border-box;top: 0;bottom: 0;left: 50%;z-index: 0;}#sk-container-id-5 div.sk-serial {display: flex;flex-direction: column;align-items: center;background-color: white;padding-right: 0.2em;padding-left: 0.2em;position: relative;}#sk-container-id-5 div.sk-item {position: relative;z-index: 1;}#sk-container-id-5 div.sk-parallel {display: flex;align-items: stretch;justify-content: center;background-color: white;position: relative;}#sk-container-id-5 div.sk-item::before, #sk-container-id-5 div.sk-parallel-item::before {content: \"\";position: absolute;border-left: 1px solid gray;box-sizing: border-box;top: 0;bottom: 0;left: 50%;z-index: -1;}#sk-container-id-5 div.sk-parallel-item {display: flex;flex-direction: column;z-index: 1;position: relative;background-color: white;}#sk-container-id-5 div.sk-parallel-item:first-child::after {align-self: flex-end;width: 50%;}#sk-container-id-5 div.sk-parallel-item:last-child::after {align-self: flex-start;width: 50%;}#sk-container-id-5 div.sk-parallel-item:only-child::after {width: 0;}#sk-container-id-5 div.sk-dashed-wrapped {border: 1px dashed gray;margin: 0 0.4em 0.5em 0.4em;box-sizing: border-box;padding-bottom: 0.4em;background-color: white;}#sk-container-id-5 div.sk-label label {font-family: monospace;font-weight: bold;display: inline-block;line-height: 1.2em;}#sk-container-id-5 div.sk-label-container {text-align: center;}#sk-container-id-5 div.sk-container {/* jupyter's `normalize.less` sets `[hidden] { display: none; }` but bootstrap.min.css set `[hidden] { display: none !important; }` so we also need the `!important` here to be able to override the default hidden behavior on the sphinx rendered scikit-learn.org. See: https://github.com/scikit-learn/scikit-learn/issues/21755 */display: inline-block !important;position: relative;}#sk-container-id-5 div.sk-text-repr-fallback {display: none;}</style><div id=\"sk-container-id-5\" class=\"sk-top-container\"><div class=\"sk-text-repr-fallback\"><pre>LogisticRegression()</pre><b>In a Jupyter environment, please rerun this cell to show the HTML representation or trust the notebook. <br />On GitHub, the HTML representation is unable to render, please try loading this page with nbviewer.org.</b></div><div class=\"sk-container\" hidden><div class=\"sk-item\"><div class=\"sk-estimator sk-toggleable\"><input class=\"sk-toggleable__control sk-hidden--visually\" id=\"sk-estimator-id-5\" type=\"checkbox\" checked><label for=\"sk-estimator-id-5\" class=\"sk-toggleable__label sk-toggleable__label-arrow\">LogisticRegression</label><div class=\"sk-toggleable__content\"><pre>LogisticRegression()</pre></div></div></div></div></div>"
      ],
      "text/plain": [
       "LogisticRegression()"
      ]
     },
     "execution_count": 51,
     "metadata": {},
     "output_type": "execute_result"
    }
   ],
   "source": [
    "# Logistic Regression\n",
    "\n",
    "log = LogisticRegression()\n",
    "log.fit(X_train,y_train)"
   ]
  },
  {
   "cell_type": "code",
   "execution_count": 52,
   "id": "e89cec0f",
   "metadata": {},
   "outputs": [],
   "source": [
    "y_pred1 = log.predict(X_test)"
   ]
  },
  {
   "cell_type": "code",
   "execution_count": 53,
   "id": "bf56f50b",
   "metadata": {},
   "outputs": [
    {
     "data": {
      "text/plain": [
       "0.9729173627842358"
      ]
     },
     "execution_count": 53,
     "metadata": {},
     "output_type": "execute_result"
    }
   ],
   "source": [
    "accuracy_score(y_test,y_pred1)"
   ]
  },
  {
   "cell_type": "code",
   "execution_count": 54,
   "id": "975b63d6",
   "metadata": {},
   "outputs": [
    {
     "data": {
      "text/plain": [
       "0.9795198746260151"
      ]
     },
     "execution_count": 54,
     "metadata": {},
     "output_type": "execute_result"
    }
   ],
   "source": [
    "precision_score(y_test,y_pred1)"
   ]
  },
  {
   "cell_type": "code",
   "execution_count": 55,
   "id": "0b158ea1",
   "metadata": {},
   "outputs": [
    {
     "data": {
      "text/plain": [
       "0.9660999086629664"
      ]
     },
     "execution_count": 55,
     "metadata": {},
     "output_type": "execute_result"
    }
   ],
   "source": [
    "recall_score(y_test,y_pred1)"
   ]
  },
  {
   "cell_type": "code",
   "execution_count": 56,
   "id": "59023f84",
   "metadata": {},
   "outputs": [
    {
     "data": {
      "text/plain": [
       "0.9727636093523399"
      ]
     },
     "execution_count": 56,
     "metadata": {},
     "output_type": "execute_result"
    }
   ],
   "source": [
    "f1_score(y_test,y_pred1)"
   ]
  },
  {
   "cell_type": "code",
   "execution_count": 57,
   "id": "a97d8dd6",
   "metadata": {},
   "outputs": [
    {
     "data": {
      "text/html": [
       "<style>#sk-container-id-6 {color: black;background-color: white;}#sk-container-id-6 pre{padding: 0;}#sk-container-id-6 div.sk-toggleable {background-color: white;}#sk-container-id-6 label.sk-toggleable__label {cursor: pointer;display: block;width: 100%;margin-bottom: 0;padding: 0.3em;box-sizing: border-box;text-align: center;}#sk-container-id-6 label.sk-toggleable__label-arrow:before {content: \"▸\";float: left;margin-right: 0.25em;color: #696969;}#sk-container-id-6 label.sk-toggleable__label-arrow:hover:before {color: black;}#sk-container-id-6 div.sk-estimator:hover label.sk-toggleable__label-arrow:before {color: black;}#sk-container-id-6 div.sk-toggleable__content {max-height: 0;max-width: 0;overflow: hidden;text-align: left;background-color: #f0f8ff;}#sk-container-id-6 div.sk-toggleable__content pre {margin: 0.2em;color: black;border-radius: 0.25em;background-color: #f0f8ff;}#sk-container-id-6 input.sk-toggleable__control:checked~div.sk-toggleable__content {max-height: 200px;max-width: 100%;overflow: auto;}#sk-container-id-6 input.sk-toggleable__control:checked~label.sk-toggleable__label-arrow:before {content: \"▾\";}#sk-container-id-6 div.sk-estimator input.sk-toggleable__control:checked~label.sk-toggleable__label {background-color: #d4ebff;}#sk-container-id-6 div.sk-label input.sk-toggleable__control:checked~label.sk-toggleable__label {background-color: #d4ebff;}#sk-container-id-6 input.sk-hidden--visually {border: 0;clip: rect(1px 1px 1px 1px);clip: rect(1px, 1px, 1px, 1px);height: 1px;margin: -1px;overflow: hidden;padding: 0;position: absolute;width: 1px;}#sk-container-id-6 div.sk-estimator {font-family: monospace;background-color: #f0f8ff;border: 1px dotted black;border-radius: 0.25em;box-sizing: border-box;margin-bottom: 0.5em;}#sk-container-id-6 div.sk-estimator:hover {background-color: #d4ebff;}#sk-container-id-6 div.sk-parallel-item::after {content: \"\";width: 100%;border-bottom: 1px solid gray;flex-grow: 1;}#sk-container-id-6 div.sk-label:hover label.sk-toggleable__label {background-color: #d4ebff;}#sk-container-id-6 div.sk-serial::before {content: \"\";position: absolute;border-left: 1px solid gray;box-sizing: border-box;top: 0;bottom: 0;left: 50%;z-index: 0;}#sk-container-id-6 div.sk-serial {display: flex;flex-direction: column;align-items: center;background-color: white;padding-right: 0.2em;padding-left: 0.2em;position: relative;}#sk-container-id-6 div.sk-item {position: relative;z-index: 1;}#sk-container-id-6 div.sk-parallel {display: flex;align-items: stretch;justify-content: center;background-color: white;position: relative;}#sk-container-id-6 div.sk-item::before, #sk-container-id-6 div.sk-parallel-item::before {content: \"\";position: absolute;border-left: 1px solid gray;box-sizing: border-box;top: 0;bottom: 0;left: 50%;z-index: -1;}#sk-container-id-6 div.sk-parallel-item {display: flex;flex-direction: column;z-index: 1;position: relative;background-color: white;}#sk-container-id-6 div.sk-parallel-item:first-child::after {align-self: flex-end;width: 50%;}#sk-container-id-6 div.sk-parallel-item:last-child::after {align-self: flex-start;width: 50%;}#sk-container-id-6 div.sk-parallel-item:only-child::after {width: 0;}#sk-container-id-6 div.sk-dashed-wrapped {border: 1px dashed gray;margin: 0 0.4em 0.5em 0.4em;box-sizing: border-box;padding-bottom: 0.4em;background-color: white;}#sk-container-id-6 div.sk-label label {font-family: monospace;font-weight: bold;display: inline-block;line-height: 1.2em;}#sk-container-id-6 div.sk-label-container {text-align: center;}#sk-container-id-6 div.sk-container {/* jupyter's `normalize.less` sets `[hidden] { display: none; }` but bootstrap.min.css set `[hidden] { display: none !important; }` so we also need the `!important` here to be able to override the default hidden behavior on the sphinx rendered scikit-learn.org. See: https://github.com/scikit-learn/scikit-learn/issues/21755 */display: inline-block !important;position: relative;}#sk-container-id-6 div.sk-text-repr-fallback {display: none;}</style><div id=\"sk-container-id-6\" class=\"sk-top-container\"><div class=\"sk-text-repr-fallback\"><pre>DecisionTreeClassifier()</pre><b>In a Jupyter environment, please rerun this cell to show the HTML representation or trust the notebook. <br />On GitHub, the HTML representation is unable to render, please try loading this page with nbviewer.org.</b></div><div class=\"sk-container\" hidden><div class=\"sk-item\"><div class=\"sk-estimator sk-toggleable\"><input class=\"sk-toggleable__control sk-hidden--visually\" id=\"sk-estimator-id-6\" type=\"checkbox\" checked><label for=\"sk-estimator-id-6\" class=\"sk-toggleable__label sk-toggleable__label-arrow\">DecisionTreeClassifier</label><div class=\"sk-toggleable__content\"><pre>DecisionTreeClassifier()</pre></div></div></div></div></div>"
      ],
      "text/plain": [
       "DecisionTreeClassifier()"
      ]
     },
     "execution_count": 57,
     "metadata": {},
     "output_type": "execute_result"
    }
   ],
   "source": [
    "# Decision Tree Classifier\n",
    "\n",
    "dt=DecisionTreeClassifier()\n",
    "dt.fit(X_train,y_train)"
   ]
  },
  {
   "cell_type": "code",
   "execution_count": 58,
   "id": "afcd2dea",
   "metadata": {},
   "outputs": [],
   "source": [
    "y_pred2 = dt.predict(X_test)"
   ]
  },
  {
   "cell_type": "code",
   "execution_count": 59,
   "id": "5861cbf7",
   "metadata": {},
   "outputs": [
    {
     "data": {
      "text/plain": [
       "0.9985403513708386"
      ]
     },
     "execution_count": 59,
     "metadata": {},
     "output_type": "execute_result"
    }
   ],
   "source": [
    "accuracy_score(y_test,y_pred2)"
   ]
  },
  {
   "cell_type": "code",
   "execution_count": 60,
   "id": "7d555bae",
   "metadata": {},
   "outputs": [
    {
     "data": {
      "text/plain": [
       "0.9978250955905567"
      ]
     },
     "execution_count": 60,
     "metadata": {},
     "output_type": "execute_result"
    }
   ],
   "source": [
    "precision_score(y_test,y_pred2)"
   ]
  },
  {
   "cell_type": "code",
   "execution_count": 61,
   "id": "5a3a730f",
   "metadata": {},
   "outputs": [
    {
     "data": {
      "text/plain": [
       "0.9992622778051008"
      ]
     },
     "execution_count": 61,
     "metadata": {},
     "output_type": "execute_result"
    }
   ],
   "source": [
    "recall_score(y_test,y_pred2)"
   ]
  },
  {
   "cell_type": "code",
   "execution_count": 62,
   "id": "bbd9c98d",
   "metadata": {},
   "outputs": [
    {
     "data": {
      "text/plain": [
       "0.9985431695715513"
      ]
     },
     "execution_count": 62,
     "metadata": {},
     "output_type": "execute_result"
    }
   ],
   "source": [
    "f1_score(y_test,y_pred2)"
   ]
  },
  {
   "cell_type": "code",
   "execution_count": 63,
   "id": "e54f18e3",
   "metadata": {},
   "outputs": [
    {
     "data": {
      "text/html": [
       "<style>#sk-container-id-7 {color: black;background-color: white;}#sk-container-id-7 pre{padding: 0;}#sk-container-id-7 div.sk-toggleable {background-color: white;}#sk-container-id-7 label.sk-toggleable__label {cursor: pointer;display: block;width: 100%;margin-bottom: 0;padding: 0.3em;box-sizing: border-box;text-align: center;}#sk-container-id-7 label.sk-toggleable__label-arrow:before {content: \"▸\";float: left;margin-right: 0.25em;color: #696969;}#sk-container-id-7 label.sk-toggleable__label-arrow:hover:before {color: black;}#sk-container-id-7 div.sk-estimator:hover label.sk-toggleable__label-arrow:before {color: black;}#sk-container-id-7 div.sk-toggleable__content {max-height: 0;max-width: 0;overflow: hidden;text-align: left;background-color: #f0f8ff;}#sk-container-id-7 div.sk-toggleable__content pre {margin: 0.2em;color: black;border-radius: 0.25em;background-color: #f0f8ff;}#sk-container-id-7 input.sk-toggleable__control:checked~div.sk-toggleable__content {max-height: 200px;max-width: 100%;overflow: auto;}#sk-container-id-7 input.sk-toggleable__control:checked~label.sk-toggleable__label-arrow:before {content: \"▾\";}#sk-container-id-7 div.sk-estimator input.sk-toggleable__control:checked~label.sk-toggleable__label {background-color: #d4ebff;}#sk-container-id-7 div.sk-label input.sk-toggleable__control:checked~label.sk-toggleable__label {background-color: #d4ebff;}#sk-container-id-7 input.sk-hidden--visually {border: 0;clip: rect(1px 1px 1px 1px);clip: rect(1px, 1px, 1px, 1px);height: 1px;margin: -1px;overflow: hidden;padding: 0;position: absolute;width: 1px;}#sk-container-id-7 div.sk-estimator {font-family: monospace;background-color: #f0f8ff;border: 1px dotted black;border-radius: 0.25em;box-sizing: border-box;margin-bottom: 0.5em;}#sk-container-id-7 div.sk-estimator:hover {background-color: #d4ebff;}#sk-container-id-7 div.sk-parallel-item::after {content: \"\";width: 100%;border-bottom: 1px solid gray;flex-grow: 1;}#sk-container-id-7 div.sk-label:hover label.sk-toggleable__label {background-color: #d4ebff;}#sk-container-id-7 div.sk-serial::before {content: \"\";position: absolute;border-left: 1px solid gray;box-sizing: border-box;top: 0;bottom: 0;left: 50%;z-index: 0;}#sk-container-id-7 div.sk-serial {display: flex;flex-direction: column;align-items: center;background-color: white;padding-right: 0.2em;padding-left: 0.2em;position: relative;}#sk-container-id-7 div.sk-item {position: relative;z-index: 1;}#sk-container-id-7 div.sk-parallel {display: flex;align-items: stretch;justify-content: center;background-color: white;position: relative;}#sk-container-id-7 div.sk-item::before, #sk-container-id-7 div.sk-parallel-item::before {content: \"\";position: absolute;border-left: 1px solid gray;box-sizing: border-box;top: 0;bottom: 0;left: 50%;z-index: -1;}#sk-container-id-7 div.sk-parallel-item {display: flex;flex-direction: column;z-index: 1;position: relative;background-color: white;}#sk-container-id-7 div.sk-parallel-item:first-child::after {align-self: flex-end;width: 50%;}#sk-container-id-7 div.sk-parallel-item:last-child::after {align-self: flex-start;width: 50%;}#sk-container-id-7 div.sk-parallel-item:only-child::after {width: 0;}#sk-container-id-7 div.sk-dashed-wrapped {border: 1px dashed gray;margin: 0 0.4em 0.5em 0.4em;box-sizing: border-box;padding-bottom: 0.4em;background-color: white;}#sk-container-id-7 div.sk-label label {font-family: monospace;font-weight: bold;display: inline-block;line-height: 1.2em;}#sk-container-id-7 div.sk-label-container {text-align: center;}#sk-container-id-7 div.sk-container {/* jupyter's `normalize.less` sets `[hidden] { display: none; }` but bootstrap.min.css set `[hidden] { display: none !important; }` so we also need the `!important` here to be able to override the default hidden behavior on the sphinx rendered scikit-learn.org. See: https://github.com/scikit-learn/scikit-learn/issues/21755 */display: inline-block !important;position: relative;}#sk-container-id-7 div.sk-text-repr-fallback {display: none;}</style><div id=\"sk-container-id-7\" class=\"sk-top-container\"><div class=\"sk-text-repr-fallback\"><pre>RandomForestClassifier()</pre><b>In a Jupyter environment, please rerun this cell to show the HTML representation or trust the notebook. <br />On GitHub, the HTML representation is unable to render, please try loading this page with nbviewer.org.</b></div><div class=\"sk-container\" hidden><div class=\"sk-item\"><div class=\"sk-estimator sk-toggleable\"><input class=\"sk-toggleable__control sk-hidden--visually\" id=\"sk-estimator-id-7\" type=\"checkbox\" checked><label for=\"sk-estimator-id-7\" class=\"sk-toggleable__label sk-toggleable__label-arrow\">RandomForestClassifier</label><div class=\"sk-toggleable__content\"><pre>RandomForestClassifier()</pre></div></div></div></div></div>"
      ],
      "text/plain": [
       "RandomForestClassifier()"
      ]
     },
     "execution_count": 63,
     "metadata": {},
     "output_type": "execute_result"
    }
   ],
   "source": [
    "# Random Forest Classifier\n",
    "\n",
    "rf = RandomForestClassifier()\n",
    "rf.fit(X_train,y_train)"
   ]
  },
  {
   "cell_type": "code",
   "execution_count": 64,
   "id": "398a0052",
   "metadata": {},
   "outputs": [],
   "source": [
    "y_pred3 = rf.predict(X_test)"
   ]
  },
  {
   "cell_type": "code",
   "execution_count": 65,
   "id": "96062af2",
   "metadata": {},
   "outputs": [
    {
     "data": {
      "text/plain": [
       "0.9999208624237201"
      ]
     },
     "execution_count": 65,
     "metadata": {},
     "output_type": "execute_result"
    }
   ],
   "source": [
    "accuracy_score(y_test,y_pred3)"
   ]
  },
  {
   "cell_type": "code",
   "execution_count": 66,
   "id": "feb918f1",
   "metadata": {},
   "outputs": [
    {
     "data": {
      "text/plain": [
       "0.99984194165891"
      ]
     },
     "execution_count": 66,
     "metadata": {},
     "output_type": "execute_result"
    }
   ],
   "source": [
    "precision_score(y_test,y_pred3)"
   ]
  },
  {
   "cell_type": "code",
   "execution_count": 67,
   "id": "7ad13c10",
   "metadata": {},
   "outputs": [
    {
     "data": {
      "text/plain": [
       "1.0"
      ]
     },
     "execution_count": 67,
     "metadata": {},
     "output_type": "execute_result"
    }
   ],
   "source": [
    "recall_score(y_test,y_pred3)"
   ]
  },
  {
   "cell_type": "code",
   "execution_count": 68,
   "id": "9c8d5ad2",
   "metadata": {},
   "outputs": [
    {
     "data": {
      "text/plain": [
       "0.9999209645833517"
      ]
     },
     "execution_count": 68,
     "metadata": {},
     "output_type": "execute_result"
    }
   ],
   "source": [
    "f1_score(y_test,y_pred3)"
   ]
  },
  {
   "cell_type": "code",
   "execution_count": 69,
   "id": "4b9f977b",
   "metadata": {},
   "outputs": [],
   "source": [
    "df_new = pd.DataFrame({'Models':['LR','DT','RF'],\n",
    "              \"ACC\":[accuracy_score(y_test,y_pred1)*100,\n",
    "                     accuracy_score(y_test,y_pred2)*100,\n",
    "                     accuracy_score(y_test,y_pred3)*100]})"
   ]
  },
  {
   "cell_type": "code",
   "execution_count": 70,
   "id": "0702a471",
   "metadata": {},
   "outputs": [
    {
     "data": {
      "text/html": [
       "<div>\n",
       "<style scoped>\n",
       "    .dataframe tbody tr th:only-of-type {\n",
       "        vertical-align: middle;\n",
       "    }\n",
       "\n",
       "    .dataframe tbody tr th {\n",
       "        vertical-align: top;\n",
       "    }\n",
       "\n",
       "    .dataframe thead th {\n",
       "        text-align: right;\n",
       "    }\n",
       "</style>\n",
       "<table border=\"1\" class=\"dataframe\">\n",
       "  <thead>\n",
       "    <tr style=\"text-align: right;\">\n",
       "      <th></th>\n",
       "      <th>Models</th>\n",
       "      <th>ACC</th>\n",
       "    </tr>\n",
       "  </thead>\n",
       "  <tbody>\n",
       "    <tr>\n",
       "      <th>0</th>\n",
       "      <td>LR</td>\n",
       "      <td>97.291736</td>\n",
       "    </tr>\n",
       "    <tr>\n",
       "      <th>1</th>\n",
       "      <td>DT</td>\n",
       "      <td>99.854035</td>\n",
       "    </tr>\n",
       "    <tr>\n",
       "      <th>2</th>\n",
       "      <td>RF</td>\n",
       "      <td>99.992086</td>\n",
       "    </tr>\n",
       "  </tbody>\n",
       "</table>\n",
       "</div>"
      ],
      "text/plain": [
       "  Models        ACC\n",
       "0     LR  97.291736\n",
       "1     DT  99.854035\n",
       "2     RF  99.992086"
      ]
     },
     "execution_count": 70,
     "metadata": {},
     "output_type": "execute_result"
    }
   ],
   "source": [
    "df_new"
   ]
  },
  {
   "cell_type": "code",
   "execution_count": 71,
   "id": "a5f3d323",
   "metadata": {},
   "outputs": [
    {
     "data": {
      "text/plain": [
       "<AxesSubplot: xlabel='Models', ylabel='ACC'>"
      ]
     },
     "execution_count": 71,
     "metadata": {},
     "output_type": "execute_result"
    },
    {
     "data": {
      "image/png": "[encoded data removed]",
      "text/plain": [
       "<Figure size 432x288 with 1 Axes>"
      ]
     },
     "metadata": {
      "needs_background": "light"
     },
     "output_type": "display_data"
    }
   ],
   "source": [
    "# plot barplots \n",
    "sns.barplot(df_new['Models'],df_new['ACC'])"
   ]
  },
  {
   "cell_type": "markdown",
   "id": "2c98b911",
   "metadata": {},
   "source": [
    "# Results\n",
    "\n",
    "The trained models achieved the following accuracy scores on the test set:\n",
    "\n",
    "    Logistic Regression: 94.56%\n",
    "    Decision Tree: 99.81%\n",
    "    Random Forest: 99.99%\n",
    "\n",
    "The results suggest that the Random Forest classifier performs the best among the three models."
   ]
  },
  {
   "cell_type": "code",
   "execution_count": null,
   "id": "cadf5ee5",
   "metadata": {},
   "outputs": [],
   "source": []
  },
  {
   "cell_type": "markdown",
   "id": "143ad507",
   "metadata": {},
   "source": [
    "# Saving the model"
   ]
  },
  {
   "cell_type": "code",
   "execution_count": 90,
   "id": "f92df822",
   "metadata": {},
   "outputs": [
    {
     "data": {
      "text/html": [
       "<style>#sk-container-id-7 {color: black;background-color: white;}#sk-container-id-7 pre{padding: 0;}#sk-container-id-7 div.sk-toggleable {background-color: white;}#sk-container-id-7 label.sk-toggleable__label {cursor: pointer;display: block;width: 100%;margin-bottom: 0;padding: 0.3em;box-sizing: border-box;text-align: center;}#sk-container-id-7 label.sk-toggleable__label-arrow:before {content: \"▸\";float: left;margin-right: 0.25em;color: #696969;}#sk-container-id-7 label.sk-toggleable__label-arrow:hover:before {color: black;}#sk-container-id-7 div.sk-estimator:hover label.sk-toggleable__label-arrow:before {color: black;}#sk-container-id-7 div.sk-toggleable__content {max-height: 0;max-width: 0;overflow: hidden;text-align: left;background-color: #f0f8ff;}#sk-container-id-7 div.sk-toggleable__content pre {margin: 0.2em;color: black;border-radius: 0.25em;background-color: #f0f8ff;}#sk-container-id-7 input.sk-toggleable__control:checked~div.sk-toggleable__content {max-height: 200px;max-width: 100%;overflow: auto;}#sk-container-id-7 input.sk-toggleable__control:checked~label.sk-toggleable__label-arrow:before {content: \"▾\";}#sk-container-id-7 div.sk-estimator input.sk-toggleable__control:checked~label.sk-toggleable__label {background-color: #d4ebff;}#sk-container-id-7 div.sk-label input.sk-toggleable__control:checked~label.sk-toggleable__label {background-color: #d4ebff;}#sk-container-id-7 input.sk-hidden--visually {border: 0;clip: rect(1px 1px 1px 1px);clip: rect(1px, 1px, 1px, 1px);height: 1px;margin: -1px;overflow: hidden;padding: 0;position: absolute;width: 1px;}#sk-container-id-7 div.sk-estimator {font-family: monospace;background-color: #f0f8ff;border: 1px dotted black;border-radius: 0.25em;box-sizing: border-box;margin-bottom: 0.5em;}#sk-container-id-7 div.sk-estimator:hover {background-color: #d4ebff;}#sk-container-id-7 div.sk-parallel-item::after {content: \"\";width: 100%;border-bottom: 1px solid gray;flex-grow: 1;}#sk-container-id-7 div.sk-label:hover label.sk-toggleable__label {background-color: #d4ebff;}#sk-container-id-7 div.sk-serial::before {content: \"\";position: absolute;border-left: 1px solid gray;box-sizing: border-box;top: 0;bottom: 0;left: 50%;z-index: 0;}#sk-container-id-7 div.sk-serial {display: flex;flex-direction: column;align-items: center;background-color: white;padding-right: 0.2em;padding-left: 0.2em;position: relative;}#sk-container-id-7 div.sk-item {position: relative;z-index: 1;}#sk-container-id-7 div.sk-parallel {display: flex;align-items: stretch;justify-content: center;background-color: white;position: relative;}#sk-container-id-7 div.sk-item::before, #sk-container-id-7 div.sk-parallel-item::before {content: \"\";position: absolute;border-left: 1px solid gray;box-sizing: border-box;top: 0;bottom: 0;left: 50%;z-index: -1;}#sk-container-id-7 div.sk-parallel-item {display: flex;flex-direction: column;z-index: 1;position: relative;background-color: white;}#sk-container-id-7 div.sk-parallel-item:first-child::after {align-self: flex-end;width: 50%;}#sk-container-id-7 div.sk-parallel-item:last-child::after {align-self: flex-start;width: 50%;}#sk-container-id-7 div.sk-parallel-item:only-child::after {width: 0;}#sk-container-id-7 div.sk-dashed-wrapped {border: 1px dashed gray;margin: 0 0.4em 0.5em 0.4em;box-sizing: border-box;padding-bottom: 0.4em;background-color: white;}#sk-container-id-7 div.sk-label label {font-family: monospace;font-weight: bold;display: inline-block;line-height: 1.2em;}#sk-container-id-7 div.sk-label-container {text-align: center;}#sk-container-id-7 div.sk-container {/* jupyter's `normalize.less` sets `[hidden] { display: none; }` but bootstrap.min.css set `[hidden] { display: none !important; }` so we also need the `!important` here to be able to override the default hidden behavior on the sphinx rendered scikit-learn.org. See: https://github.com/scikit-learn/scikit-learn/issues/21755 */display: inline-block !important;position: relative;}#sk-container-id-7 div.sk-text-repr-fallback {display: none;}</style><div id=\"sk-container-id-7\" class=\"sk-top-container\"><div class=\"sk-text-repr-fallback\"><pre>RandomForestClassifier()</pre><b>In a Jupyter environment, please rerun this cell to show the HTML representation or trust the notebook. <br />On GitHub, the HTML representation is unable to render, please try loading this page with nbviewer.org.</b></div><div class=\"sk-container\" hidden><div class=\"sk-item\"><div class=\"sk-estimator sk-toggleable\"><input class=\"sk-toggleable__control sk-hidden--visually\" id=\"sk-estimator-id-7\" type=\"checkbox\" checked><label for=\"sk-estimator-id-7\" class=\"sk-toggleable__label sk-toggleable__label-arrow\">RandomForestClassifier</label><div class=\"sk-toggleable__content\"><pre>RandomForestClassifier()</pre></div></div></div></div></div>"
      ],
      "text/plain": [
       "RandomForestClassifier()"
      ]
     },
     "execution_count": 90,
     "metadata": {},
     "output_type": "execute_result"
    }
   ],
   "source": [
    "rf1 = RandomForestClassifier()\n",
    "rf1.fit(X_res,y_res)"
   ]
  },
  {
   "cell_type": "code",
   "execution_count": 91,
   "id": "661f03f5",
   "metadata": {},
   "outputs": [],
   "source": [
    "import joblib"
   ]
  },
  {
   "cell_type": "code",
   "execution_count": 92,
   "id": "3c836d06",
   "metadata": {},
   "outputs": [
    {
     "data": {
      "text/plain": [
       "['credit_card_model']"
      ]
     },
     "execution_count": 92,
     "metadata": {},
     "output_type": "execute_result"
    }
   ],
   "source": [
    "joblib.dump(rf1,\"credit_card_model\")"
   ]
  },
  {
   "cell_type": "code",
   "execution_count": 93,
   "id": "4d5937a7",
   "metadata": {},
   "outputs": [],
   "source": [
    "model = joblib.load(\"credit_card_model\")"
   ]
  },
  {
   "cell_type": "code",
   "execution_count": 94,
   "id": "3cd94878",
   "metadata": {},
   "outputs": [],
   "source": [
    "pred = model.predict([[1,1,1,1,1,1,1,1,1,1,1,1,1,1,1,1,1,1,1,1,1,1,1,1,1,1,1,1,1]])"
   ]
  },
  {
   "cell_type": "code",
   "execution_count": 96,
   "id": "58b6a7cf",
   "metadata": {},
   "outputs": [
    {
     "name": "stdout",
     "output_type": "stream",
     "text": [
      "Normal Transcation\n"
     ]
    }
   ],
   "source": [
    "if pred == 0:\n",
    "    print(\"Normal Transcation\")\n",
    "else:\n",
    "    print(\"Fraudulent Transcation\")"
   ]
  },
  {
   "cell_type": "markdown",
   "id": "129e29c5",
   "metadata": {},
   "source": [
    "# Conclusion\n",
    "\n",
    "This project demonstrates how machine learning techniques can be applied to the problem of credit card fraud detection. The trained models can help financial institutions to detect fraudulent transactions in real-time, potentially saving millions of dollars in losses."
   ]
  },
  {
   "cell_type": "code",
   "execution_count": null,
   "id": "1f108909",
   "metadata": {},
   "outputs": [],
   "source": []
  }
 ],
 "metadata": {
  "kernelspec": {
   "display_name": "Python 3 (ipykernel)",
   "language": "python",
   "name": "python3"
  },
  "language_info": {
   "codemirror_mode": {
    "name": "ipython",
    "version": 3
   },
   "file_extension": ".py",
   "mimetype": "text/x-python",
   "name": "python",
   "nbconvert_exporter": "python",
   "pygments_lexer": "ipython3",
   "version": "3.9.12"
  }
 },
 "nbformat": 4,
 "nbformat_minor": 5
}
